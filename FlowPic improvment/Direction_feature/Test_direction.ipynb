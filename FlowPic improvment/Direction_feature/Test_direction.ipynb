{
 "cells": [
  {
   "cell_type": "markdown",
   "id": "9a29dc14",
   "metadata": {
    "papermill": {
     "duration": 0.009409,
     "end_time": "2025-02-14T13:38:59.611593",
     "exception": false,
     "start_time": "2025-02-14T13:38:59.602184",
     "status": "completed"
    },
    "tags": []
   },
   "source": [
    "## FlowPic\n",
    "This is a version of the FlowPic concept for encrypted traffice calssification that was made by *Tal Shapira* and *Yuval Shavitt*  \n",
    "https://ieeexplore.ieee.org/document/9395707  \n",
    "\n",
    "here we are checking the first and simple way of 60 second window, and working baseing our work through their work and code and improving the accuracy and inference speed.  \n",
    "\n",
    "Origing FlowPic work:  \n",
    "https://github.com/talshapira/FlowPic/tree/main"
   ]
  },
  {
   "cell_type": "code",
   "execution_count": 1,
   "id": "deafd0b3",
   "metadata": {
    "execution": {
     "iopub.execute_input": "2025-02-14T13:38:59.628122Z",
     "iopub.status.busy": "2025-02-14T13:38:59.627714Z",
     "iopub.status.idle": "2025-02-14T13:39:18.376380Z",
     "shell.execute_reply": "2025-02-14T13:39:18.375290Z"
    },
    "papermill": {
     "duration": 18.758969,
     "end_time": "2025-02-14T13:39:18.378354",
     "exception": false,
     "start_time": "2025-02-14T13:38:59.619385",
     "status": "completed"
    },
    "tags": []
   },
   "outputs": [],
   "source": [
    "import numpy as np\n",
    "import random\n",
    "import time\n",
    "from datetime import timedelta\n",
    "import matplotlib.pyplot as plt\n",
    "from keras.models import Sequential\n",
    "from keras.layers import Dense, Dropout, Flatten\n",
    "from keras.layers import Conv2D, MaxPooling2D\n",
    "from keras.utils import to_categorical\n",
    "from keras.layers import BatchNormalization\n",
    "from keras.callbacks import TensorBoard,ModelCheckpoint\n",
    "from keras import backend as K\n",
    "from keras.metrics import top_k_categorical_accuracy\n",
    "from keras.regularizers import l2\n",
    "from keras.callbacks import EarlyStopping, ReduceLROnPlateau\n",
    "from keras.layers import Activation\n",
    "import tensorflow.keras.backend as K\n",
    "from keras.callbacks import TensorBoard, ModelCheckpoint\n",
    "from keras.layers import BatchNormalization\n",
    "from keras.optimizers import Adam\n",
    "import os"
   ]
  },
  {
   "cell_type": "code",
   "execution_count": 2,
   "id": "04830270",
   "metadata": {
    "execution": {
     "iopub.execute_input": "2025-02-14T13:39:18.395581Z",
     "iopub.status.busy": "2025-02-14T13:39:18.394881Z",
     "iopub.status.idle": "2025-02-14T13:39:18.400491Z",
     "shell.execute_reply": "2025-02-14T13:39:18.399201Z"
    },
    "papermill": {
     "duration": 0.016,
     "end_time": "2025-02-14T13:39:18.402290",
     "exception": false,
     "start_time": "2025-02-14T13:39:18.386290",
     "status": "completed"
    },
    "tags": []
   },
   "outputs": [
    {
     "name": "stdout",
     "output_type": "stream",
     "text": [
      "tensorflow channels_last\n"
     ]
    }
   ],
   "source": [
    "# # In this part when using the direction as a dimention we need channel first\n",
    "# K.set_image_data_format('channels_first') \n",
    "K.set_image_data_format('channels_last')\n",
    "\n",
    "print(K.backend(), K.image_data_format())"
   ]
  },
  {
   "cell_type": "code",
   "execution_count": 3,
   "id": "a68a7e1e",
   "metadata": {
    "execution": {
     "iopub.execute_input": "2025-02-14T13:39:18.418927Z",
     "iopub.status.busy": "2025-02-14T13:39:18.418573Z",
     "iopub.status.idle": "2025-02-14T13:39:18.424001Z",
     "shell.execute_reply": "2025-02-14T13:39:18.422850Z"
    },
    "papermill": {
     "duration": 0.015716,
     "end_time": "2025-02-14T13:39:18.425751",
     "exception": false,
     "start_time": "2025-02-14T13:39:18.410035",
     "status": "completed"
    },
    "tags": []
   },
   "outputs": [],
   "source": [
    "batch_size = 128 #128\n",
    "samples_per_epoch = 20 #10\n",
    "num_classes = 4\n",
    "epochs = 10 #20 #40\n",
    "class_names = [\"voip\", \"video\", \"file transfer\", \"chat\"]\n",
    "\n",
    "# input hist dimensions\n",
    "height, width = 1500, 1500\n",
    "input_shape = (1, height, width)\n",
    "# input_shape = (height, width,1)\n",
    "\n",
    "#input_shape = (height, width)\n",
    "MODEL_NAME = \"FlowPic\""
   ]
  },
  {
   "cell_type": "markdown",
   "id": "a4585383",
   "metadata": {
    "papermill": {
     "duration": 0.007785,
     "end_time": "2025-02-14T13:39:18.441241",
     "exception": false,
     "start_time": "2025-02-14T13:39:18.433456",
     "status": "completed"
    },
    "tags": []
   },
   "source": [
    "# Adding direction as an dimention ot the image.\n",
    "## Client's packeges - white\n",
    "## Server's packeges - dark gray"
   ]
  },
  {
   "cell_type": "code",
   "execution_count": 4,
   "id": "71512cc2",
   "metadata": {
    "execution": {
     "iopub.execute_input": "2025-02-14T13:39:18.457947Z",
     "iopub.status.busy": "2025-02-14T13:39:18.457593Z",
     "iopub.status.idle": "2025-02-14T13:39:18.603946Z",
     "shell.execute_reply": "2025-02-14T13:39:18.602339Z"
    },
    "papermill": {
     "duration": 0.157609,
     "end_time": "2025-02-14T13:39:18.606346",
     "exception": false,
     "start_time": "2025-02-14T13:39:18.448737",
     "status": "completed"
    },
    "tags": []
   },
   "outputs": [
    {
     "name": "stdout",
     "output_type": "stream",
     "text": [
      "reg_X_direction_test.npy   reg_X_direction_val.npy   reg_y_direction_train.npy\r\n",
      "reg_X_direction_train.npy  reg_y_direction_test.npy  reg_y_direction_val.npy\r\n"
     ]
    }
   ],
   "source": [
    "!ls /kaggle/input/vpn-non-vpn-iscx-2016-npy/win60_direction/"
   ]
  },
  {
   "cell_type": "code",
   "execution_count": 5,
   "id": "f9c16bfd",
   "metadata": {
    "execution": {
     "iopub.execute_input": "2025-02-14T13:39:18.623676Z",
     "iopub.status.busy": "2025-02-14T13:39:18.623192Z",
     "iopub.status.idle": "2025-02-14T13:39:26.904275Z",
     "shell.execute_reply": "2025-02-14T13:39:26.903099Z"
    },
    "papermill": {
     "duration": 8.29217,
     "end_time": "2025-02-14T13:39:26.906502",
     "exception": false,
     "start_time": "2025-02-14T13:39:18.614332",
     "status": "completed"
    },
    "tags": []
   },
   "outputs": [],
   "source": [
    "# Reading the data from the uploaded in Kaggle's input\n",
    "path = \"/kaggle/input/vpn-non-vpn-iscx-2016-npy\"\n",
    "X_train = np.load(r'/kaggle/input/vpn-non-vpn-iscx-2016-npy/win60_direction/reg_X_direction_train.npy')\n",
    "y_train_true = np.load(r'/kaggle/input/vpn-non-vpn-iscx-2016-npy/win60_direction/reg_y_direction_train.npy')\n",
    "X_val = np.load(r'/kaggle/input/vpn-non-vpn-iscx-2016-npy/win60_direction/reg_X_direction_val.npy')\n",
    "y_val_true = np.load(r'/kaggle/input/vpn-non-vpn-iscx-2016-npy/win60_direction/reg_y_direction_val.npy')\n",
    "X_test = np.load(r'/kaggle/input/vpn-non-vpn-iscx-2016-npy/win60_direction/reg_X_direction_test.npy')\n",
    "y_test_true = np.load(r'/kaggle/input/vpn-non-vpn-iscx-2016-npy/win60_direction/reg_y_direction_test.npy')\n"
   ]
  },
  {
   "cell_type": "code",
   "execution_count": 6,
   "id": "02186c60",
   "metadata": {
    "execution": {
     "iopub.execute_input": "2025-02-14T13:39:26.925753Z",
     "iopub.status.busy": "2025-02-14T13:39:26.925381Z",
     "iopub.status.idle": "2025-02-14T13:39:26.931938Z",
     "shell.execute_reply": "2025-02-14T13:39:26.930195Z"
    },
    "papermill": {
     "duration": 0.017895,
     "end_time": "2025-02-14T13:39:26.934279",
     "exception": false,
     "start_time": "2025-02-14T13:39:26.916384",
     "status": "completed"
    },
    "tags": []
   },
   "outputs": [
    {
     "name": "stdout",
     "output_type": "stream",
     "text": [
      "(420, 1, 1500, 1500)\n"
     ]
    }
   ],
   "source": [
    "X_train = np.expand_dims(X_train, axis=1) # for (420, 1, 1500, 1500)\n",
    "X_val = np.expand_dims(X_val, axis=1)\n",
    "X_test = np.expand_dims(X_test, axis=1)\n",
    "\n",
    "# X_train = np.expand_dims(X_train, axis=-1) # for (420, 1500, 1500 ,1) \n",
    "# X_val = np.expand_dims(X_val, axis=-1)\n",
    "# X_test = np.expand_dims(X_test, axis=-1)\n",
    "\n",
    "print(X_train.shape)  # Should print (420, 1, 1500, 1500)"
   ]
  },
  {
   "cell_type": "code",
   "execution_count": 7,
   "id": "b607f2a9",
   "metadata": {
    "execution": {
     "iopub.execute_input": "2025-02-14T13:39:26.951857Z",
     "iopub.status.busy": "2025-02-14T13:39:26.951471Z",
     "iopub.status.idle": "2025-02-14T13:39:26.960319Z",
     "shell.execute_reply": "2025-02-14T13:39:26.959045Z"
    },
    "papermill": {
     "duration": 0.020001,
     "end_time": "2025-02-14T13:39:26.962337",
     "exception": false,
     "start_time": "2025-02-14T13:39:26.942336",
     "status": "completed"
    },
    "tags": []
   },
   "outputs": [
    {
     "data": {
      "text/plain": [
       "((420, 1, 1500, 1500),\n",
       " (141, 1, 1500, 1500),\n",
       " (141, 1, 1500, 1500),\n",
       " (420,),\n",
       " (141,),\n",
       " (141,))"
      ]
     },
     "execution_count": 7,
     "metadata": {},
     "output_type": "execute_result"
    }
   ],
   "source": [
    "# X_train.shape, X_val.shape, y_train.shape, y_val.shape\n",
    "X_train.shape, X_val.shape, X_test.shape ,y_train_true.shape, y_val_true.shape, y_test_true.shape"
   ]
  },
  {
   "cell_type": "code",
   "execution_count": 8,
   "id": "1fcd294c",
   "metadata": {
    "execution": {
     "iopub.execute_input": "2025-02-14T13:39:26.981399Z",
     "iopub.status.busy": "2025-02-14T13:39:26.980845Z",
     "iopub.status.idle": "2025-02-14T13:39:26.988219Z",
     "shell.execute_reply": "2025-02-14T13:39:26.986840Z"
    },
    "papermill": {
     "duration": 0.019748,
     "end_time": "2025-02-14T13:39:26.990309",
     "exception": false,
     "start_time": "2025-02-14T13:39:26.970561",
     "status": "completed"
    },
    "tags": []
   },
   "outputs": [
    {
     "name": "stdout",
     "output_type": "stream",
     "text": [
      "X_train ndim: 4\n",
      "X_val ndim: 4\n",
      "X_test ndim: 4\n"
     ]
    }
   ],
   "source": [
    "# Check number of dimensions\n",
    "print(\"X_train ndim:\", X_train.ndim)\n",
    "print(\"X_val ndim:\", X_val.ndim)\n",
    "print(\"X_test ndim:\", X_test.ndim)"
   ]
  },
  {
   "cell_type": "code",
   "execution_count": 9,
   "id": "034c28ad",
   "metadata": {
    "execution": {
     "iopub.execute_input": "2025-02-14T13:39:27.007886Z",
     "iopub.status.busy": "2025-02-14T13:39:27.007491Z",
     "iopub.status.idle": "2025-02-14T13:39:27.011763Z",
     "shell.execute_reply": "2025-02-14T13:39:27.010551Z"
    },
    "papermill": {
     "duration": 0.015348,
     "end_time": "2025-02-14T13:39:27.013793",
     "exception": false,
     "start_time": "2025-02-14T13:39:26.998445",
     "status": "completed"
    },
    "tags": []
   },
   "outputs": [],
   "source": [
    "# # Transpose the data from (1, 1500, 1500) to (1500, 1500, 1)\n",
    "# X_train = np.transpose(X_train, (0, 2, 3, 1))  # (samples, channels, height, width) -> (samples, height, width, channels)\n",
    "# X_val = np.transpose(X_val, (0, 2, 3, 1))\n",
    "\n",
    "# print(X_train.shape)  # Should print (num_samples, 1500, 1500, 1)\n",
    "# print(X_val.shape)"
   ]
  },
  {
   "cell_type": "code",
   "execution_count": 10,
   "id": "191ed5d5",
   "metadata": {
    "execution": {
     "iopub.execute_input": "2025-02-14T13:39:27.032127Z",
     "iopub.status.busy": "2025-02-14T13:39:27.031582Z",
     "iopub.status.idle": "2025-02-14T13:39:27.041751Z",
     "shell.execute_reply": "2025-02-14T13:39:27.040367Z"
    },
    "papermill": {
     "duration": 0.022444,
     "end_time": "2025-02-14T13:39:27.044247",
     "exception": false,
     "start_time": "2025-02-14T13:39:27.021803",
     "status": "completed"
    },
    "tags": []
   },
   "outputs": [
    {
     "name": "stdout",
     "output_type": "stream",
     "text": [
      "[1. 2. 2. 1. 2. 2. 1. 1. 2. 0. 2. 2. 1. 2. 1. 1. 2. 1. 2. 0. 2. 2. 0. 2.\n",
      " 1. 2. 2. 2. 3. 2. 0. 2. 2. 2. 1. 2. 2. 3. 2. 0. 2. 2. 1. 3. 2. 2. 1. 1.\n",
      " 2. 2. 2. 2. 2. 2. 1. 1. 1. 2. 1. 1. 2. 2. 2. 0. 2. 3. 1. 1. 3. 2.]\n",
      "[2. 2. 1. 2. 2. 2. 2. 2. 2. 2. 2. 2. 2. 2. 2. 3. 3. 1. 1. 2. 1. 2. 2. 2.\n",
      " 0. 0. 0. 0. 2. 2. 3. 1. 2. 2. 2. 0. 3. 1. 2. 0. 2. 2. 2. 2. 1. 2. 2. 1.\n",
      " 3. 0. 0. 2. 1. 2. 1. 2. 0. 1. 1. 2. 0. 0. 2. 2. 2. 2. 2. 1. 2. 2.]\n",
      "[2. 1. 0. 3. 2. 2. 2. 3. 3. 2. 2. 2. 2. 2. 1. 2. 1. 0. 1. 2. 2. 2. 2. 1.\n",
      " 2. 2. 0. 3. 3. 3. 2. 2. 1. 0. 2. 3. 1. 2. 2. 2. 2. 2. 2. 3. 0. 2. 1. 2.\n",
      " 2. 3. 2. 2. 2. 2. 2. 2. 2. 1. 1. 0. 0. 2. 2. 2. 2. 1. 2. 0. 3. 1.]\n"
     ]
    }
   ],
   "source": [
    "print(y_train_true[0:70])\n",
    "print(y_val_true[0:70])\n",
    "print(y_test_true[0:70])"
   ]
  },
  {
   "cell_type": "code",
   "execution_count": 11,
   "id": "634e99c5",
   "metadata": {
    "execution": {
     "iopub.execute_input": "2025-02-14T13:39:27.061578Z",
     "iopub.status.busy": "2025-02-14T13:39:27.061193Z",
     "iopub.status.idle": "2025-02-14T13:39:27.071362Z",
     "shell.execute_reply": "2025-02-14T13:39:27.070119Z"
    },
    "papermill": {
     "duration": 0.021122,
     "end_time": "2025-02-14T13:39:27.073446",
     "exception": false,
     "start_time": "2025-02-14T13:39:27.052324",
     "status": "completed"
    },
    "tags": []
   },
   "outputs": [
    {
     "name": "stdout",
     "output_type": "stream",
     "text": [
      "[[0. 1. 0. 0.]\n",
      " [0. 0. 1. 0.]\n",
      " [0. 0. 1. 0.]\n",
      " [0. 1. 0. 0.]\n",
      " [0. 0. 1. 0.]\n",
      " [0. 0. 1. 0.]\n",
      " [0. 1. 0. 0.]\n",
      " [0. 1. 0. 0.]\n",
      " [0. 0. 1. 0.]\n",
      " [1. 0. 0. 0.]]\n",
      "[[0. 0. 1. 0.]\n",
      " [0. 0. 1. 0.]\n",
      " [0. 1. 0. 0.]\n",
      " [0. 0. 1. 0.]\n",
      " [0. 0. 1. 0.]\n",
      " [0. 0. 1. 0.]\n",
      " [0. 0. 1. 0.]\n",
      " [0. 0. 1. 0.]\n",
      " [0. 0. 1. 0.]\n",
      " [0. 0. 1. 0.]]\n",
      "[[0. 0. 1. 0.]\n",
      " [0. 1. 0. 0.]\n",
      " [1. 0. 0. 0.]\n",
      " [0. 0. 0. 1.]\n",
      " [0. 0. 1. 0.]\n",
      " [0. 0. 1. 0.]\n",
      " [0. 0. 1. 0.]\n",
      " [0. 0. 0. 1.]\n",
      " [0. 0. 0. 1.]\n",
      " [0. 0. 1. 0.]]\n",
      "(420, 4) (141, 4) (141, 4)\n"
     ]
    }
   ],
   "source": [
    "# Making the classes for the CNN. Exmp 0 = [1,0,0,0], 1 = [0,1,0,0]\n",
    "y_train = to_categorical(y_train_true, num_classes)\n",
    "y_val = to_categorical(y_val_true, num_classes)\n",
    "y_test = to_categorical(y_test_true, num_classes)\n",
    "print(y_train[0:10])\n",
    "print (y_val[0:10])\n",
    "print (y_test[0:10])\n",
    "print(y_train.shape, y_val.shape, y_test.shape)"
   ]
  },
  {
   "cell_type": "markdown",
   "id": "987abf48",
   "metadata": {
    "papermill": {
     "duration": 0.008131,
     "end_time": "2025-02-14T13:39:27.090425",
     "exception": false,
     "start_time": "2025-02-14T13:39:27.082294",
     "status": "completed"
    },
    "tags": []
   },
   "source": [
    "### Building the CNN model"
   ]
  },
  {
   "cell_type": "code",
   "execution_count": 12,
   "id": "cf6005d2",
   "metadata": {
    "execution": {
     "iopub.execute_input": "2025-02-14T13:39:27.107934Z",
     "iopub.status.busy": "2025-02-14T13:39:27.107555Z",
     "iopub.status.idle": "2025-02-14T13:39:27.114925Z",
     "shell.execute_reply": "2025-02-14T13:39:27.113698Z"
    },
    "papermill": {
     "duration": 0.018666,
     "end_time": "2025-02-14T13:39:27.117051",
     "exception": false,
     "start_time": "2025-02-14T13:39:27.098385",
     "status": "completed"
    },
    "tags": []
   },
   "outputs": [],
   "source": [
    "# Define custom metrics (if required)\n",
    "def precision(y_true, y_pred):\n",
    "    true_positives = K.sum(K.round(K.clip(y_true * y_pred, 0, 1)))\n",
    "    predicted_positives = K.sum(K.round(K.clip(y_pred, 0, 1)))\n",
    "    return true_positives / (predicted_positives + K.epsilon())\n",
    "\n",
    "def recall(y_true, y_pred):\n",
    "    true_positives = K.sum(K.round(K.clip(y_true * y_pred, 0, 1)))\n",
    "    possible_positives = K.sum(K.round(K.clip(y_true, 0, 1)))\n",
    "    return true_positives / (possible_positives + K.epsilon())\n",
    "\n",
    "def f1_score(y_true, y_pred):\n",
    "    prec = precision(y_true, y_pred)\n",
    "    rec = recall(y_true, y_pred)\n",
    "    return 2 * ((prec * rec) / (prec + rec + K.epsilon()))\n",
    "def top_2_categorical_accuracy(y_true, y_pred):\n",
    "    return top_k_categorical_accuracy(y_true, y_pred, k=2) "
   ]
  },
  {
   "cell_type": "code",
   "execution_count": 13,
   "id": "899cca27",
   "metadata": {
    "execution": {
     "iopub.execute_input": "2025-02-14T13:39:27.135950Z",
     "iopub.status.busy": "2025-02-14T13:39:27.135558Z",
     "iopub.status.idle": "2025-02-14T13:39:27.411455Z",
     "shell.execute_reply": "2025-02-14T13:39:27.410425Z"
    },
    "papermill": {
     "duration": 0.288224,
     "end_time": "2025-02-14T13:39:27.413506",
     "exception": false,
     "start_time": "2025-02-14T13:39:27.125282",
     "status": "completed"
    },
    "tags": []
   },
   "outputs": [
    {
     "name": "stdout",
     "output_type": "stream",
     "text": [
      "(420, 1, 1500, 1500)\n",
      "(None, 1, 300, 10)\n",
      "(None, 1, 150, 10)\n",
      "(None, 1, 30, 20)\n",
      "(None, 1, 15, 20)\n",
      "(None, 300)\n",
      "(None, 64)\n",
      "(None, 64)\n"
     ]
    },
    {
     "name": "stderr",
     "output_type": "stream",
     "text": [
      "/usr/local/lib/python3.10/dist-packages/keras/src/layers/convolutional/base_conv.py:107: UserWarning: Do not pass an `input_shape`/`input_dim` argument to a layer. When using Sequential models, prefer using an `Input(shape)` object as the first layer in the model instead.\n",
      "  super().__init__(activity_regularizer=activity_regularizer, **kwargs)\n"
     ]
    },
    {
     "name": "stdout",
     "output_type": "stream",
     "text": [
      "(None, 4)\n"
     ]
    },
    {
     "data": {
      "text/html": [
       "<pre style=\"white-space:pre;overflow-x:auto;line-height:normal;font-family:Menlo,'DejaVu Sans Mono',consolas,'Courier New',monospace\"><span style=\"font-weight: bold\">Model: \"sequential\"</span>\n",
       "</pre>\n"
      ],
      "text/plain": [
       "\u001b[1mModel: \"sequential\"\u001b[0m\n"
      ]
     },
     "metadata": {},
     "output_type": "display_data"
    },
    {
     "data": {
      "text/html": [
       "<pre style=\"white-space:pre;overflow-x:auto;line-height:normal;font-family:Menlo,'DejaVu Sans Mono',consolas,'Courier New',monospace\">┏━━━━━━━━━━━━━━━━━━━━━━━━━━━━━━━━━━━━━━┳━━━━━━━━━━━━━━━━━━━━━━━━━━━━━┳━━━━━━━━━━━━━━━━━┓\n",
       "┃<span style=\"font-weight: bold\"> Layer (type)                         </span>┃<span style=\"font-weight: bold\"> Output Shape                </span>┃<span style=\"font-weight: bold\">         Param # </span>┃\n",
       "┡━━━━━━━━━━━━━━━━━━━━━━━━━━━━━━━━━━━━━━╇━━━━━━━━━━━━━━━━━━━━━━━━━━━━━╇━━━━━━━━━━━━━━━━━┩\n",
       "│ conv2d (<span style=\"color: #0087ff; text-decoration-color: #0087ff\">Conv2D</span>)                      │ (<span style=\"color: #00d7ff; text-decoration-color: #00d7ff\">None</span>, <span style=\"color: #00af00; text-decoration-color: #00af00\">1</span>, <span style=\"color: #00af00; text-decoration-color: #00af00\">300</span>, <span style=\"color: #00af00; text-decoration-color: #00af00\">10</span>)          │       <span style=\"color: #00af00; text-decoration-color: #00af00\">1,500,010</span> │\n",
       "├──────────────────────────────────────┼─────────────────────────────┼─────────────────┤\n",
       "│ activation (<span style=\"color: #0087ff; text-decoration-color: #0087ff\">Activation</span>)              │ (<span style=\"color: #00d7ff; text-decoration-color: #00d7ff\">None</span>, <span style=\"color: #00af00; text-decoration-color: #00af00\">1</span>, <span style=\"color: #00af00; text-decoration-color: #00af00\">300</span>, <span style=\"color: #00af00; text-decoration-color: #00af00\">10</span>)          │               <span style=\"color: #00af00; text-decoration-color: #00af00\">0</span> │\n",
       "├──────────────────────────────────────┼─────────────────────────────┼─────────────────┤\n",
       "│ max_pooling2d (<span style=\"color: #0087ff; text-decoration-color: #0087ff\">MaxPooling2D</span>)         │ (<span style=\"color: #00d7ff; text-decoration-color: #00d7ff\">None</span>, <span style=\"color: #00af00; text-decoration-color: #00af00\">1</span>, <span style=\"color: #00af00; text-decoration-color: #00af00\">150</span>, <span style=\"color: #00af00; text-decoration-color: #00af00\">10</span>)          │               <span style=\"color: #00af00; text-decoration-color: #00af00\">0</span> │\n",
       "├──────────────────────────────────────┼─────────────────────────────┼─────────────────┤\n",
       "│ conv2d_1 (<span style=\"color: #0087ff; text-decoration-color: #0087ff\">Conv2D</span>)                    │ (<span style=\"color: #00d7ff; text-decoration-color: #00d7ff\">None</span>, <span style=\"color: #00af00; text-decoration-color: #00af00\">1</span>, <span style=\"color: #00af00; text-decoration-color: #00af00\">30</span>, <span style=\"color: #00af00; text-decoration-color: #00af00\">20</span>)           │          <span style=\"color: #00af00; text-decoration-color: #00af00\">20,020</span> │\n",
       "├──────────────────────────────────────┼─────────────────────────────┼─────────────────┤\n",
       "│ activation_1 (<span style=\"color: #0087ff; text-decoration-color: #0087ff\">Activation</span>)            │ (<span style=\"color: #00d7ff; text-decoration-color: #00d7ff\">None</span>, <span style=\"color: #00af00; text-decoration-color: #00af00\">1</span>, <span style=\"color: #00af00; text-decoration-color: #00af00\">30</span>, <span style=\"color: #00af00; text-decoration-color: #00af00\">20</span>)           │               <span style=\"color: #00af00; text-decoration-color: #00af00\">0</span> │\n",
       "├──────────────────────────────────────┼─────────────────────────────┼─────────────────┤\n",
       "│ dropout (<span style=\"color: #0087ff; text-decoration-color: #0087ff\">Dropout</span>)                    │ (<span style=\"color: #00d7ff; text-decoration-color: #00d7ff\">None</span>, <span style=\"color: #00af00; text-decoration-color: #00af00\">1</span>, <span style=\"color: #00af00; text-decoration-color: #00af00\">30</span>, <span style=\"color: #00af00; text-decoration-color: #00af00\">20</span>)           │               <span style=\"color: #00af00; text-decoration-color: #00af00\">0</span> │\n",
       "├──────────────────────────────────────┼─────────────────────────────┼─────────────────┤\n",
       "│ max_pooling2d_1 (<span style=\"color: #0087ff; text-decoration-color: #0087ff\">MaxPooling2D</span>)       │ (<span style=\"color: #00d7ff; text-decoration-color: #00d7ff\">None</span>, <span style=\"color: #00af00; text-decoration-color: #00af00\">1</span>, <span style=\"color: #00af00; text-decoration-color: #00af00\">15</span>, <span style=\"color: #00af00; text-decoration-color: #00af00\">20</span>)           │               <span style=\"color: #00af00; text-decoration-color: #00af00\">0</span> │\n",
       "├──────────────────────────────────────┼─────────────────────────────┼─────────────────┤\n",
       "│ flatten (<span style=\"color: #0087ff; text-decoration-color: #0087ff\">Flatten</span>)                    │ (<span style=\"color: #00d7ff; text-decoration-color: #00d7ff\">None</span>, <span style=\"color: #00af00; text-decoration-color: #00af00\">300</span>)                 │               <span style=\"color: #00af00; text-decoration-color: #00af00\">0</span> │\n",
       "├──────────────────────────────────────┼─────────────────────────────┼─────────────────┤\n",
       "│ dense (<span style=\"color: #0087ff; text-decoration-color: #0087ff\">Dense</span>)                        │ (<span style=\"color: #00d7ff; text-decoration-color: #00d7ff\">None</span>, <span style=\"color: #00af00; text-decoration-color: #00af00\">64</span>)                  │          <span style=\"color: #00af00; text-decoration-color: #00af00\">19,264</span> │\n",
       "├──────────────────────────────────────┼─────────────────────────────┼─────────────────┤\n",
       "│ dropout_1 (<span style=\"color: #0087ff; text-decoration-color: #0087ff\">Dropout</span>)                  │ (<span style=\"color: #00d7ff; text-decoration-color: #00d7ff\">None</span>, <span style=\"color: #00af00; text-decoration-color: #00af00\">64</span>)                  │               <span style=\"color: #00af00; text-decoration-color: #00af00\">0</span> │\n",
       "├──────────────────────────────────────┼─────────────────────────────┼─────────────────┤\n",
       "│ dense_1 (<span style=\"color: #0087ff; text-decoration-color: #0087ff\">Dense</span>)                      │ (<span style=\"color: #00d7ff; text-decoration-color: #00d7ff\">None</span>, <span style=\"color: #00af00; text-decoration-color: #00af00\">4</span>)                   │             <span style=\"color: #00af00; text-decoration-color: #00af00\">260</span> │\n",
       "└──────────────────────────────────────┴─────────────────────────────┴─────────────────┘\n",
       "</pre>\n"
      ],
      "text/plain": [
       "┏━━━━━━━━━━━━━━━━━━━━━━━━━━━━━━━━━━━━━━┳━━━━━━━━━━━━━━━━━━━━━━━━━━━━━┳━━━━━━━━━━━━━━━━━┓\n",
       "┃\u001b[1m \u001b[0m\u001b[1mLayer (type)                        \u001b[0m\u001b[1m \u001b[0m┃\u001b[1m \u001b[0m\u001b[1mOutput Shape               \u001b[0m\u001b[1m \u001b[0m┃\u001b[1m \u001b[0m\u001b[1m        Param #\u001b[0m\u001b[1m \u001b[0m┃\n",
       "┡━━━━━━━━━━━━━━━━━━━━━━━━━━━━━━━━━━━━━━╇━━━━━━━━━━━━━━━━━━━━━━━━━━━━━╇━━━━━━━━━━━━━━━━━┩\n",
       "│ conv2d (\u001b[38;5;33mConv2D\u001b[0m)                      │ (\u001b[38;5;45mNone\u001b[0m, \u001b[38;5;34m1\u001b[0m, \u001b[38;5;34m300\u001b[0m, \u001b[38;5;34m10\u001b[0m)          │       \u001b[38;5;34m1,500,010\u001b[0m │\n",
       "├──────────────────────────────────────┼─────────────────────────────┼─────────────────┤\n",
       "│ activation (\u001b[38;5;33mActivation\u001b[0m)              │ (\u001b[38;5;45mNone\u001b[0m, \u001b[38;5;34m1\u001b[0m, \u001b[38;5;34m300\u001b[0m, \u001b[38;5;34m10\u001b[0m)          │               \u001b[38;5;34m0\u001b[0m │\n",
       "├──────────────────────────────────────┼─────────────────────────────┼─────────────────┤\n",
       "│ max_pooling2d (\u001b[38;5;33mMaxPooling2D\u001b[0m)         │ (\u001b[38;5;45mNone\u001b[0m, \u001b[38;5;34m1\u001b[0m, \u001b[38;5;34m150\u001b[0m, \u001b[38;5;34m10\u001b[0m)          │               \u001b[38;5;34m0\u001b[0m │\n",
       "├──────────────────────────────────────┼─────────────────────────────┼─────────────────┤\n",
       "│ conv2d_1 (\u001b[38;5;33mConv2D\u001b[0m)                    │ (\u001b[38;5;45mNone\u001b[0m, \u001b[38;5;34m1\u001b[0m, \u001b[38;5;34m30\u001b[0m, \u001b[38;5;34m20\u001b[0m)           │          \u001b[38;5;34m20,020\u001b[0m │\n",
       "├──────────────────────────────────────┼─────────────────────────────┼─────────────────┤\n",
       "│ activation_1 (\u001b[38;5;33mActivation\u001b[0m)            │ (\u001b[38;5;45mNone\u001b[0m, \u001b[38;5;34m1\u001b[0m, \u001b[38;5;34m30\u001b[0m, \u001b[38;5;34m20\u001b[0m)           │               \u001b[38;5;34m0\u001b[0m │\n",
       "├──────────────────────────────────────┼─────────────────────────────┼─────────────────┤\n",
       "│ dropout (\u001b[38;5;33mDropout\u001b[0m)                    │ (\u001b[38;5;45mNone\u001b[0m, \u001b[38;5;34m1\u001b[0m, \u001b[38;5;34m30\u001b[0m, \u001b[38;5;34m20\u001b[0m)           │               \u001b[38;5;34m0\u001b[0m │\n",
       "├──────────────────────────────────────┼─────────────────────────────┼─────────────────┤\n",
       "│ max_pooling2d_1 (\u001b[38;5;33mMaxPooling2D\u001b[0m)       │ (\u001b[38;5;45mNone\u001b[0m, \u001b[38;5;34m1\u001b[0m, \u001b[38;5;34m15\u001b[0m, \u001b[38;5;34m20\u001b[0m)           │               \u001b[38;5;34m0\u001b[0m │\n",
       "├──────────────────────────────────────┼─────────────────────────────┼─────────────────┤\n",
       "│ flatten (\u001b[38;5;33mFlatten\u001b[0m)                    │ (\u001b[38;5;45mNone\u001b[0m, \u001b[38;5;34m300\u001b[0m)                 │               \u001b[38;5;34m0\u001b[0m │\n",
       "├──────────────────────────────────────┼─────────────────────────────┼─────────────────┤\n",
       "│ dense (\u001b[38;5;33mDense\u001b[0m)                        │ (\u001b[38;5;45mNone\u001b[0m, \u001b[38;5;34m64\u001b[0m)                  │          \u001b[38;5;34m19,264\u001b[0m │\n",
       "├──────────────────────────────────────┼─────────────────────────────┼─────────────────┤\n",
       "│ dropout_1 (\u001b[38;5;33mDropout\u001b[0m)                  │ (\u001b[38;5;45mNone\u001b[0m, \u001b[38;5;34m64\u001b[0m)                  │               \u001b[38;5;34m0\u001b[0m │\n",
       "├──────────────────────────────────────┼─────────────────────────────┼─────────────────┤\n",
       "│ dense_1 (\u001b[38;5;33mDense\u001b[0m)                      │ (\u001b[38;5;45mNone\u001b[0m, \u001b[38;5;34m4\u001b[0m)                   │             \u001b[38;5;34m260\u001b[0m │\n",
       "└──────────────────────────────────────┴─────────────────────────────┴─────────────────┘\n"
      ]
     },
     "metadata": {},
     "output_type": "display_data"
    },
    {
     "data": {
      "text/html": [
       "<pre style=\"white-space:pre;overflow-x:auto;line-height:normal;font-family:Menlo,'DejaVu Sans Mono',consolas,'Courier New',monospace\"><span style=\"font-weight: bold\"> Total params: </span><span style=\"color: #00af00; text-decoration-color: #00af00\">1,539,554</span> (5.87 MB)\n",
       "</pre>\n"
      ],
      "text/plain": [
       "\u001b[1m Total params: \u001b[0m\u001b[38;5;34m1,539,554\u001b[0m (5.87 MB)\n"
      ]
     },
     "metadata": {},
     "output_type": "display_data"
    },
    {
     "data": {
      "text/html": [
       "<pre style=\"white-space:pre;overflow-x:auto;line-height:normal;font-family:Menlo,'DejaVu Sans Mono',consolas,'Courier New',monospace\"><span style=\"font-weight: bold\"> Trainable params: </span><span style=\"color: #00af00; text-decoration-color: #00af00\">1,539,554</span> (5.87 MB)\n",
       "</pre>\n"
      ],
      "text/plain": [
       "\u001b[1m Trainable params: \u001b[0m\u001b[38;5;34m1,539,554\u001b[0m (5.87 MB)\n"
      ]
     },
     "metadata": {},
     "output_type": "display_data"
    },
    {
     "data": {
      "text/html": [
       "<pre style=\"white-space:pre;overflow-x:auto;line-height:normal;font-family:Menlo,'DejaVu Sans Mono',consolas,'Courier New',monospace\"><span style=\"font-weight: bold\"> Non-trainable params: </span><span style=\"color: #00af00; text-decoration-color: #00af00\">0</span> (0.00 B)\n",
       "</pre>\n"
      ],
      "text/plain": [
       "\u001b[1m Non-trainable params: \u001b[0m\u001b[38;5;34m0\u001b[0m (0.00 B)\n"
      ]
     },
     "metadata": {},
     "output_type": "display_data"
    },
    {
     "name": "stdout",
     "output_type": "stream",
     "text": [
      "Class distribution:\n",
      "Class voip: 41\n",
      "Class video: 89\n",
      "Class file transfer: 235\n",
      "Class chat: 55\n"
     ]
    }
   ],
   "source": [
    "# Input data is already in (batch_size, channels, height, width)\n",
    "print(X_train.shape)  # Should be (num_samples, 1, 1500, 1500)\n",
    "\n",
    "#Model definition\n",
    "\n",
    "model = Sequential()\n",
    "model.add(Conv2D(10, kernel_size=(10, 10), strides=5, padding=\"same\", data_format='channels_last', input_shape=input_shape))\n",
    "model.add(Activation('relu'))\n",
    "print(model.output_shape)\n",
    "model.add(MaxPooling2D(pool_size=(2, 2), padding=\"same\", data_format='channels_last'))\n",
    "print(model.output_shape)\n",
    "model.add(Conv2D(20, kernel_size=(10, 10), strides=5, padding=\"same\", data_format='channels_last'))\n",
    "model.add(Activation('relu'))\n",
    "print(model.output_shape)\n",
    "model.add(Dropout(0.25))\n",
    "model.add(MaxPooling2D(pool_size=(2, 2), padding=\"same\", data_format='channels_last'))\n",
    "print(model.output_shape)\n",
    "model.add(Flatten())\n",
    "print(model.output_shape)\n",
    "model.add(Dense(64, activation='relu'))\n",
    "print(model.output_shape)\n",
    "model.add(Dropout(0.5))\n",
    "print(model.output_shape)\n",
    "model.add(Dense(num_classes, activation='softmax'))\n",
    "print(model.output_shape)\n",
    "\n",
    "\n",
    "from tensorflow.keras.metrics import Precision, Recall\n",
    "\n",
    "model.compile(\n",
    "    loss='categorical_crossentropy',\n",
    "    optimizer='adam',\n",
    "    metrics=['accuracy',top_2_categorical_accuracy ,Precision(), Recall()]\n",
    ")\n",
    "\n",
    "# Print model summary to check layer dimensions\n",
    "model.summary()\n",
    "\n",
    "# Print class distribution\n",
    "print(\"Class distribution:\")\n",
    "# Fix the class distribution print\n",
    "unique, counts = np.unique(y_train_true, return_counts=True)\n",
    "for class_idx, count in zip(unique, counts):\n",
    "    print(f\"Class {class_names[int(class_idx)]}: {count}\")"
   ]
  },
  {
   "cell_type": "code",
   "execution_count": 14,
   "id": "f4dbc520",
   "metadata": {
    "execution": {
     "iopub.execute_input": "2025-02-14T13:39:27.433393Z",
     "iopub.status.busy": "2025-02-14T13:39:27.433033Z",
     "iopub.status.idle": "2025-02-14T13:39:27.438404Z",
     "shell.execute_reply": "2025-02-14T13:39:27.437276Z"
    },
    "papermill": {
     "duration": 0.01734,
     "end_time": "2025-02-14T13:39:27.440111",
     "exception": false,
     "start_time": "2025-02-14T13:39:27.422771",
     "status": "completed"
    },
    "tags": []
   },
   "outputs": [
    {
     "name": "stdout",
     "output_type": "stream",
     "text": [
      "channels_last\n"
     ]
    }
   ],
   "source": [
    "print(K.image_data_format())  # Should print \"channels_last\"\n",
    "if K.image_data_format() != \"channels_last\":\n",
    "    K.set_image_data_format(\"channels_last\")"
   ]
  },
  {
   "cell_type": "code",
   "execution_count": 15,
   "id": "965694b7",
   "metadata": {
    "execution": {
     "iopub.execute_input": "2025-02-14T13:39:27.461616Z",
     "iopub.status.busy": "2025-02-14T13:39:27.461220Z",
     "iopub.status.idle": "2025-02-14T13:39:27.466416Z",
     "shell.execute_reply": "2025-02-14T13:39:27.465347Z"
    },
    "papermill": {
     "duration": 0.018358,
     "end_time": "2025-02-14T13:39:27.468399",
     "exception": false,
     "start_time": "2025-02-14T13:39:27.450041",
     "status": "completed"
    },
    "tags": []
   },
   "outputs": [],
   "source": [
    "# Define callbacks\n",
    "callbacks = [\n",
    "    # Early stopping to prevent overfitting\n",
    "    EarlyStopping(\n",
    "        monitor='val_loss',\n",
    "        patience=5,               # Number of epochs with no improvement after which training will stop\n",
    "        restore_best_weights=True # Restore model weights from the epoch with the best value of the monitored quantity\n",
    "    ),\n",
    "    \n",
    "    # Reduce learning rate when a metric has stopped improving\n",
    "    ReduceLROnPlateau(\n",
    "        monitor='val_loss',\n",
    "        factor=0.2,              # Factor by which the learning rate will be reduced\n",
    "        patience=3,              # Number of epochs with no improvement after which learning rate will be reduced\n",
    "        min_lr=1e-6\n",
    "    ),\n",
    "    \n",
    "    # Your existing TensorBoard callback\n",
    "    TensorBoard(log_dir='./Graph', histogram_freq=1, write_graph=True, write_images=True)\n",
    "]"
   ]
  },
  {
   "cell_type": "markdown",
   "id": "72c1aff0",
   "metadata": {
    "papermill": {
     "duration": 0.010311,
     "end_time": "2025-02-14T13:39:27.488082",
     "exception": false,
     "start_time": "2025-02-14T13:39:27.477771",
     "status": "completed"
    },
    "tags": []
   },
   "source": [
    "### Training the model"
   ]
  },
  {
   "cell_type": "code",
   "execution_count": 16,
   "id": "7d530fd8",
   "metadata": {
    "execution": {
     "iopub.execute_input": "2025-02-14T13:39:27.519031Z",
     "iopub.status.busy": "2025-02-14T13:39:27.518588Z",
     "iopub.status.idle": "2025-02-14T14:24:27.021589Z",
     "shell.execute_reply": "2025-02-14T14:24:27.019385Z"
    },
    "papermill": {
     "duration": 2699.51945,
     "end_time": "2025-02-14T14:24:27.023843",
     "exception": false,
     "start_time": "2025-02-14T13:39:27.504393",
     "status": "completed"
    },
    "tags": []
   },
   "outputs": [
    {
     "name": "stdout",
     "output_type": "stream",
     "text": [
      "Epoch 1/10\n",
      "\u001b[1m20/20\u001b[0m \u001b[32m━━━━━━━━━━━━━━━━━━━━\u001b[0m\u001b[37m\u001b[0m \u001b[1m267s\u001b[0m 13s/step - accuracy: 0.5733 - loss: 1.0042 - precision: 0.7606 - recall: 0.4610 - top_2_categorical_accuracy: 0.7421 - val_accuracy: 0.7234 - val_loss: 0.4742 - val_precision: 0.9600 - val_recall: 0.6809 - val_top_2_categorical_accuracy: 0.8865 - learning_rate: 0.0010\n",
      "Epoch 2/10\n",
      "\u001b[1m20/20\u001b[0m \u001b[32m━━━━━━━━━━━━━━━━━━━━\u001b[0m\u001b[37m\u001b[0m \u001b[1m270s\u001b[0m 14s/step - accuracy: 0.8386 - loss: 0.3439 - precision: 0.9934 - recall: 0.7516 - top_2_categorical_accuracy: 0.9477 - val_accuracy: 0.8865 - val_loss: 0.3568 - val_precision: 1.0000 - val_recall: 0.7163 - val_top_2_categorical_accuracy: 0.9716 - learning_rate: 0.0010\n",
      "Epoch 3/10\n",
      "\u001b[1m20/20\u001b[0m \u001b[32m━━━━━━━━━━━━━━━━━━━━\u001b[0m\u001b[37m\u001b[0m \u001b[1m264s\u001b[0m 13s/step - accuracy: 0.9406 - loss: 0.2613 - precision: 0.9952 - recall: 0.7891 - top_2_categorical_accuracy: 0.9933 - val_accuracy: 0.9574 - val_loss: 0.2200 - val_precision: 1.0000 - val_recall: 0.8723 - val_top_2_categorical_accuracy: 0.9787 - learning_rate: 0.0010\n",
      "Epoch 4/10\n",
      "\u001b[1m20/20\u001b[0m \u001b[32m━━━━━━━━━━━━━━━━━━━━\u001b[0m\u001b[37m\u001b[0m \u001b[1m262s\u001b[0m 13s/step - accuracy: 0.9837 - loss: 0.1217 - precision: 0.9953 - recall: 0.9198 - top_2_categorical_accuracy: 0.9955 - val_accuracy: 0.9716 - val_loss: 0.1248 - val_precision: 0.9850 - val_recall: 0.9291 - val_top_2_categorical_accuracy: 0.9787 - learning_rate: 0.0010\n",
      "Epoch 5/10\n",
      "\u001b[1m20/20\u001b[0m \u001b[32m━━━━━━━━━━━━━━━━━━━━\u001b[0m\u001b[37m\u001b[0m \u001b[1m283s\u001b[0m 14s/step - accuracy: 0.9900 - loss: 0.0567 - precision: 0.9982 - recall: 0.9666 - top_2_categorical_accuracy: 0.9980 - val_accuracy: 0.9716 - val_loss: 0.1136 - val_precision: 0.9784 - val_recall: 0.9645 - val_top_2_categorical_accuracy: 0.9787 - learning_rate: 0.0010\n",
      "Epoch 6/10\n",
      "\u001b[1m20/20\u001b[0m \u001b[32m━━━━━━━━━━━━━━━━━━━━\u001b[0m\u001b[37m\u001b[0m \u001b[1m272s\u001b[0m 14s/step - accuracy: 0.9951 - loss: 0.0308 - precision: 0.9973 - recall: 0.9858 - top_2_categorical_accuracy: 0.9981 - val_accuracy: 0.9716 - val_loss: 0.1105 - val_precision: 0.9784 - val_recall: 0.9645 - val_top_2_categorical_accuracy: 0.9787 - learning_rate: 0.0010\n",
      "Epoch 7/10\n",
      "\u001b[1m20/20\u001b[0m \u001b[32m━━━━━━━━━━━━━━━━━━━━\u001b[0m\u001b[37m\u001b[0m \u001b[1m274s\u001b[0m 14s/step - accuracy: 0.9966 - loss: 0.0167 - precision: 0.9994 - recall: 0.9918 - top_2_categorical_accuracy: 0.9996 - val_accuracy: 0.9716 - val_loss: 0.1148 - val_precision: 0.9784 - val_recall: 0.9645 - val_top_2_categorical_accuracy: 0.9787 - learning_rate: 0.0010\n",
      "Epoch 8/10\n",
      "\u001b[1m20/20\u001b[0m \u001b[32m━━━━━━━━━━━━━━━━━━━━\u001b[0m\u001b[37m\u001b[0m \u001b[1m266s\u001b[0m 13s/step - accuracy: 0.9986 - loss: 0.0116 - precision: 0.9991 - recall: 0.9960 - top_2_categorical_accuracy: 1.0000 - val_accuracy: 0.9716 - val_loss: 0.1283 - val_precision: 0.9784 - val_recall: 0.9645 - val_top_2_categorical_accuracy: 0.9716 - learning_rate: 0.0010\n",
      "Epoch 9/10\n",
      "\u001b[1m20/20\u001b[0m \u001b[32m━━━━━━━━━━━━━━━━━━━━\u001b[0m\u001b[37m\u001b[0m \u001b[1m273s\u001b[0m 14s/step - accuracy: 0.9989 - loss: 0.0077 - precision: 0.9993 - recall: 0.9980 - top_2_categorical_accuracy: 1.0000 - val_accuracy: 0.9645 - val_loss: 0.1393 - val_precision: 0.9784 - val_recall: 0.9645 - val_top_2_categorical_accuracy: 0.9787 - learning_rate: 0.0010\n",
      "Epoch 10/10\n",
      "\u001b[1m20/20\u001b[0m \u001b[32m━━━━━━━━━━━━━━━━━━━━\u001b[0m\u001b[37m\u001b[0m \u001b[1m269s\u001b[0m 13s/step - accuracy: 0.9995 - loss: 0.0074 - precision: 0.9995 - recall: 0.9980 - top_2_categorical_accuracy: 1.0000 - val_accuracy: 0.9645 - val_loss: 0.1406 - val_precision: 0.9784 - val_recall: 0.9645 - val_top_2_categorical_accuracy: 0.9787 - learning_rate: 2.0000e-04\n",
      "Total training time: 0:44:59.491920\n"
     ]
    }
   ],
   "source": [
    "# Define TensorBoard\n",
    "#tensorboard = TensorBoard(log_dir='./Graph', histogram_freq=1, write_graph=True, write_images=True)\n",
    "\n",
    "# Define ModelCheckpoint\n",
    "# checkpointer_loss = ModelCheckpoint(filepath=MODEL_NAME + '_loss.hdf5', verbose=1, save_best_only=True, save_weights_only=True)\n",
    "# checkpointer_acc = ModelCheckpoint(monitor='val_acc', filepath=MODEL_NAME + '_acc.hdf5', verbose=1, save_best_only=True, save_weights_only=True)\n",
    "\n",
    "#Define generator\n",
    "def generator(features, labels, batch_size):\n",
    "    index = 0\n",
    "    while True:\n",
    "        index += batch_size\n",
    "        if index >= len(features):\n",
    "            batch_features = np.append(features[index - batch_size:len(features)], features[0:index - len(features)], axis=0)\n",
    "            batch_labels = np.append(labels[index - batch_size:len(features)], labels[0:index - len(features)], axis=0)\n",
    "            index -= len(features)\n",
    "            yield batch_features, batch_labels\n",
    "        else:\n",
    "            yield features[index - batch_size:index], labels[index - batch_size:index]\n",
    "\n",
    "# Start timing\n",
    "start_time = time.time()\n",
    "\n",
    "\n",
    "# Train the model\n",
    "history = model.fit(\n",
    "    generator(X_train, y_train, batch_size),\n",
    "    epochs=epochs,\n",
    "    steps_per_epoch=samples_per_epoch, #// batch_size,\n",
    "    verbose=1,\n",
    "    callbacks = callbacks,\n",
    "    validation_data=(X_val, y_val)\n",
    ")\n",
    "\n",
    "# Calculate training time\n",
    "training_time = time.time() - start_time\n",
    "print(f'Total training time: {timedelta(seconds=training_time)}')\n"
   ]
  },
  {
   "cell_type": "code",
   "execution_count": 17,
   "id": "4879000c",
   "metadata": {
    "execution": {
     "iopub.execute_input": "2025-02-14T14:24:27.070893Z",
     "iopub.status.busy": "2025-02-14T14:24:27.070470Z",
     "iopub.status.idle": "2025-02-14T14:24:27.078342Z",
     "shell.execute_reply": "2025-02-14T14:24:27.077066Z"
    },
    "papermill": {
     "duration": 0.033292,
     "end_time": "2025-02-14T14:24:27.080194",
     "exception": false,
     "start_time": "2025-02-14T14:24:27.046902",
     "status": "completed"
    },
    "tags": []
   },
   "outputs": [],
   "source": [
    "import matplotlib.pyplot as plt\n",
    "\n",
    "def plot_training_history(history):\n",
    "    fig, (ax1, ax2) = plt.subplots(1, 2, figsize=(15, 5))\n",
    "    \n",
    "    # Plot accuracy\n",
    "    ax1.plot(history.history['accuracy'], label='Training Accuracy')\n",
    "    ax1.plot(history.history['val_accuracy'], label='Validation Accuracy')\n",
    "    ax1.set_title('Model Accuracy')\n",
    "    ax1.set_xlabel('Epoch')\n",
    "    ax1.set_ylabel('Accuracy')\n",
    "    ax1.legend()\n",
    "    \n",
    "    # Plot loss\n",
    "    ax2.plot(history.history['loss'], label='Training Loss')\n",
    "    ax2.plot(history.history['val_loss'], label='Validation Loss')\n",
    "    ax2.set_title('Model Loss')\n",
    "    ax2.set_xlabel('Epoch')\n",
    "    ax2.set_ylabel('Loss')\n",
    "    ax2.legend()\n",
    "    \n",
    "    plt.tight_layout()\n",
    "    plt.show()\n"
   ]
  },
  {
   "cell_type": "code",
   "execution_count": 18,
   "id": "66e89075",
   "metadata": {
    "execution": {
     "iopub.execute_input": "2025-02-14T14:24:27.126733Z",
     "iopub.status.busy": "2025-02-14T14:24:27.126300Z",
     "iopub.status.idle": "2025-02-14T14:24:27.820660Z",
     "shell.execute_reply": "2025-02-14T14:24:27.819509Z"
    },
    "papermill": {
     "duration": 0.720306,
     "end_time": "2025-02-14T14:24:27.822736",
     "exception": false,
     "start_time": "2025-02-14T14:24:27.102430",
     "status": "completed"
    },
    "tags": []
   },
   "outputs": [
    {
     "data": {
      "image/png": "[encoded data removed]",
      "text/plain": [
       "<Figure size 1500x500 with 2 Axes>"
      ]
     },
     "metadata": {},
     "output_type": "display_data"
    }
   ],
   "source": [
    "# Plot the training history\n",
    "plot_training_history(history)"
   ]
  },
  {
   "cell_type": "code",
   "execution_count": 19,
   "id": "98bf4564",
   "metadata": {
    "execution": {
     "iopub.execute_input": "2025-02-14T14:24:27.875381Z",
     "iopub.status.busy": "2025-02-14T14:24:27.874924Z",
     "iopub.status.idle": "2025-02-14T14:24:28.107699Z",
     "shell.execute_reply": "2025-02-14T14:24:28.106483Z"
    },
    "papermill": {
     "duration": 0.262436,
     "end_time": "2025-02-14T14:24:28.109800",
     "exception": false,
     "start_time": "2025-02-14T14:24:27.847364",
     "status": "completed"
    },
    "tags": []
   },
   "outputs": [
    {
     "name": "stdout",
     "output_type": "stream",
     "text": [
      "dict_keys(['accuracy', 'loss', 'precision', 'recall', 'top_2_categorical_accuracy', 'val_accuracy', 'val_loss', 'val_precision', 'val_recall', 'val_top_2_categorical_accuracy', 'learning_rate'])\n"
     ]
    },
    {
     "data": {
      "image/png": "[encoded data removed]",
      "text/plain": [
       "<Figure size 640x480 with 1 Axes>"
      ]
     },
     "metadata": {},
     "output_type": "display_data"
    }
   ],
   "source": [
    "\n",
    "# List all available keys in history\n",
    "print(history.history.keys())\n",
    "\n",
    "# Define x-axis values (epochs)\n",
    "x = np.asarray(range(1, epochs + 1))\n",
    "\n",
    "# Plot accuracy\n",
    "plt.figure()\n",
    "plt.plot(x, history.history['accuracy'], label='Train Accuracy')  # Use 'accuracy' instead of 'acc'\n",
    "plt.plot(x, history.history['val_accuracy'], label='Validation Accuracy')  # Use 'val_accuracy' instead of 'val_acc'\n",
    "plt.title('Model Accuracy')\n",
    "plt.ylabel('Accuracy')\n",
    "plt.xlabel('Epoch')\n",
    "plt.legend(loc='upper left')\n",
    "plt.show()"
   ]
  },
  {
   "cell_type": "code",
   "execution_count": 20,
   "id": "3fa20f07",
   "metadata": {
    "execution": {
     "iopub.execute_input": "2025-02-14T14:24:28.162206Z",
     "iopub.status.busy": "2025-02-14T14:24:28.161780Z",
     "iopub.status.idle": "2025-02-14T14:24:32.306700Z",
     "shell.execute_reply": "2025-02-14T14:24:32.305489Z"
    },
    "papermill": {
     "duration": 4.17289,
     "end_time": "2025-02-14T14:24:32.308694",
     "exception": false,
     "start_time": "2025-02-14T14:24:28.135804",
     "status": "completed"
    },
    "tags": []
   },
   "outputs": [
    {
     "name": "stdout",
     "output_type": "stream",
     "text": [
      "\u001b[1m5/5\u001b[0m \u001b[32m━━━━━━━━━━━━━━━━━━━━\u001b[0m\u001b[37m\u001b[0m \u001b[1m4s\u001b[0m 655ms/step\n",
      "[2 2 1 2 2 2 2 2 2 2 2 2 2 2 2 3 3 1 1 2 1 2 2 2 3 0 0 0 2 2 3 1 2 2 2 0 3\n",
      " 1 2 0 2 2 2 2 1 2 2 1 3 0 0 2 1 2 1 2 0 1 1 2 0 0 2 2 2 2 2 1 2 2 1 1 3 2\n",
      " 1 1 3 2 1 3 2 3 3 2 2 3 1 2 2 2 2 1 2 0 2 2 2 2 2 2 2 0 3 2 2 2 0 0 2 3 2\n",
      " 3 2 2 0 2 2 0 2 0 2 2 0 3 2 2 1 1 2 2 1 3 2 2 1 2 3 2 2 2 1]\n"
     ]
    }
   ],
   "source": [
    "# Get predictions (probabilities for each class)\n",
    "y_val_probabilities = model.predict(X_val, verbose=1)\n",
    "\n",
    "# Convert probabilities to class predictions\n",
    "y_val_predictions = np.argmax(y_val_probabilities, axis=1)\n",
    "\n",
    "print(y_val_predictions)"
   ]
  },
  {
   "cell_type": "code",
   "execution_count": 21,
   "id": "7648dab3",
   "metadata": {
    "execution": {
     "iopub.execute_input": "2025-02-14T14:24:32.360140Z",
     "iopub.status.busy": "2025-02-14T14:24:32.359699Z",
     "iopub.status.idle": "2025-02-14T14:24:35.247520Z",
     "shell.execute_reply": "2025-02-14T14:24:35.245161Z"
    },
    "papermill": {
     "duration": 2.916515,
     "end_time": "2025-02-14T14:24:35.250349",
     "exception": false,
     "start_time": "2025-02-14T14:24:32.333834",
     "status": "completed"
    },
    "tags": []
   },
   "outputs": [
    {
     "name": "stdout",
     "output_type": "stream",
     "text": [
      "Confusion matrix, without normalization\n",
      "[[17  0  0  2]\n",
      " [ 1 25  0  1]\n",
      " [ 0  0 80  0]\n",
      " [ 0  0  0 15]]\n",
      "Normalized confusion matrix\n",
      "[[0.89 0.   0.   0.11]\n",
      " [0.04 0.93 0.   0.04]\n",
      " [0.   0.   1.   0.  ]\n",
      " [0.   0.   0.   1.  ]]\n"
     ]
    },
    {
     "data": {
      "image/png": "[encoded data removed]",
      "text/plain": [
       "<Figure size 640x480 with 2 Axes>"
      ]
     },
     "metadata": {},
     "output_type": "display_data"
    },
    {
     "data": {
      "image/png": "[encoded data removed]",
      "text/plain": [
       "<Figure size 640x480 with 2 Axes>"
      ]
     },
     "metadata": {},
     "output_type": "display_data"
    }
   ],
   "source": [
    "from sklearn.metrics import confusion_matrix\n",
    "import itertools\n",
    "\n",
    "def plot_confusion_matrix(cm, classes,\n",
    "                          normalize=False,\n",
    "                          title='Confusion matrix',\n",
    "                          fname='Confusion matrix',\n",
    "                          cmap=plt.cm.Blues):\n",
    "    \"\"\"\n",
    "    This function prints and plots the confusion matrix.\n",
    "    Normalization can be applied by setting `normalize=True`.\n",
    "    \"\"\"\n",
    "    if normalize:\n",
    "        cm = cm.astype('float') / cm.sum(axis=1)[:, np.newaxis]\n",
    "        print(\"Normalized confusion matrix\")\n",
    "    else:\n",
    "        print('Confusion matrix, without normalization')\n",
    "\n",
    "    print(cm)\n",
    "\n",
    "    plt.imshow(cm, interpolation='nearest', cmap=cmap)\n",
    "    plt.title(title)\n",
    "    plt.colorbar()\n",
    "    tick_marks = np.arange(len(classes))\n",
    "    plt.xticks(tick_marks, classes, rotation=45)\n",
    "    plt.yticks(tick_marks, classes)\n",
    "\n",
    "    fmt = '.1f' if normalize else 'd'\n",
    "    thresh = cm.max() / 2.\n",
    "    for i, j in itertools.product(range(cm.shape[0]), range(cm.shape[1])):\n",
    "        if normalize:\n",
    "            plt.text(j, i, format(cm[i, j]*100, fmt) + '%',\n",
    "                 horizontalalignment=\"center\",\n",
    "                 color=\"white\" if cm[i, j] > thresh else \"black\")\n",
    "        else:\n",
    "            plt.text(j, i, format(cm[i, j], fmt),\n",
    "                 horizontalalignment=\"center\",\n",
    "                 color=\"white\" if cm[i, j] > thresh else \"black\")    \n",
    "        \n",
    "    plt.tight_layout()\n",
    "    plt.ylabel('True label')\n",
    "    plt.xlabel('Predicted label')\n",
    "    plt.savefig(fname, bbox_inches='tight', pad_inches=1)\n",
    "\n",
    "# Compute confusion matrix\n",
    "cnf_matrix = confusion_matrix(y_val_true, y_val_predictions)\n",
    "np.set_printoptions(precision=2)\n",
    "\n",
    "# Plot non-normalized confusion matrix\n",
    "plt.figure()\n",
    "plot_confusion_matrix(cnf_matrix, classes=class_names,\n",
    "                      title='Confusion matrix, without normalization',\n",
    "                      fname=MODEL_NAME + \"_\" + 'Confusion_matrix_without_normalization')\n",
    "\n",
    "# Plot normalized confusion matrix\n",
    "plt.figure()\n",
    "plot_confusion_matrix(cnf_matrix, classes=class_names, normalize=True,\n",
    "                      title='Normalized confusion matrix',\n",
    "                      fname=MODEL_NAME + \"_\" + 'Normalized_confusion_matrix')\n",
    "\n",
    "plt.show()"
   ]
  },
  {
   "cell_type": "code",
   "execution_count": 22,
   "id": "47b09330",
   "metadata": {
    "execution": {
     "iopub.execute_input": "2025-02-14T14:24:35.310017Z",
     "iopub.status.busy": "2025-02-14T14:24:35.308997Z",
     "iopub.status.idle": "2025-02-14T14:24:35.318701Z",
     "shell.execute_reply": "2025-02-14T14:24:35.316854Z"
    },
    "papermill": {
     "duration": 0.04327,
     "end_time": "2025-02-14T14:24:35.321597",
     "exception": false,
     "start_time": "2025-02-14T14:24:35.278327",
     "status": "completed"
    },
    "tags": []
   },
   "outputs": [
    {
     "name": "stdout",
     "output_type": "stream",
     "text": [
      "Validation Accuracy: 0.97\n"
     ]
    }
   ],
   "source": [
    "y_val_true = np.argmax(y_val, axis=1)\n",
    "\n",
    "# Compare predictions with true labels\n",
    "accuracy = np.mean(y_val_predictions == y_val_true)\n",
    "print(f\"Validation Accuracy: {accuracy:.2f}\")"
   ]
  },
  {
   "cell_type": "code",
   "execution_count": 23,
   "id": "33587999",
   "metadata": {
    "execution": {
     "iopub.execute_input": "2025-02-14T14:24:35.391288Z",
     "iopub.status.busy": "2025-02-14T14:24:35.390699Z",
     "iopub.status.idle": "2025-02-14T14:24:35.408779Z",
     "shell.execute_reply": "2025-02-14T14:24:35.407394Z"
    },
    "papermill": {
     "duration": 0.053854,
     "end_time": "2025-02-14T14:24:35.411856",
     "exception": false,
     "start_time": "2025-02-14T14:24:35.358002",
     "status": "completed"
    },
    "tags": []
   },
   "outputs": [
    {
     "name": "stdout",
     "output_type": "stream",
     "text": [
      "              precision    recall  f1-score   support\n",
      "\n",
      "           0       0.94      0.89      0.92        19\n",
      "           1       1.00      0.93      0.96        27\n",
      "           2       1.00      1.00      1.00        80\n",
      "           3       0.83      1.00      0.91        15\n",
      "\n",
      "    accuracy                           0.97       141\n",
      "   macro avg       0.94      0.96      0.95       141\n",
      "weighted avg       0.97      0.97      0.97       141\n",
      "\n",
      "Accuracy: 97.16%\n"
     ]
    }
   ],
   "source": [
    "from sklearn.metrics import classification_report, accuracy_score\n",
    "\n",
    "# Print classification report\n",
    "print(classification_report(y_val_true, y_val_predictions))\n",
    "\n",
    "# Calculate and print accuracy as a percentage\n",
    "accuracy = accuracy_score(y_val_true, y_val_predictions)\n",
    "print(f\"Accuracy: {accuracy * 100:.2f}%\")"
   ]
  },
  {
   "cell_type": "markdown",
   "id": "e825a650-960f-448d-a9a8-93e577e3e190",
   "metadata": {},
   "source": [
    "## Saving the trained model\n",
    "**Note**: we can save the trained model by using `joblib` and saving as a `'pkl'` file \n",
    "or by `tensorflow.keras.models` as `'h5'` file \n",
    "and then do the inference in another code/notebook."
   ]
  },
  {
   "cell_type": "code",
   "execution_count": 24,
   "id": "68bb6784",
   "metadata": {
    "execution": {
     "iopub.execute_input": "2025-02-14T14:24:35.482123Z",
     "iopub.status.busy": "2025-02-14T14:24:35.481536Z",
     "iopub.status.idle": "2025-02-14T14:24:35.591064Z",
     "shell.execute_reply": "2025-02-14T14:24:35.589588Z"
    },
    "papermill": {
     "duration": 0.143355,
     "end_time": "2025-02-14T14:24:35.593718",
     "exception": false,
     "start_time": "2025-02-14T14:24:35.450363",
     "status": "completed"
    },
    "tags": []
   },
   "outputs": [],
   "source": [
    "# Saving model\n",
    "# After seeing the model result we can save it \n",
    "import os\n",
    "\n",
    "# Define a writable directory under /kaggle/working\n",
    "save_dir = r'/kaggle/working/vpn-non-vpn-iscx-2016-npy/win60_direction'\n",
    "os.makedirs(save_dir, exist_ok=True)\n",
    "\n",
    "# Now save your model to this directory (example for a Keras model)\n",
    "model.save(os.path.join(save_dir, 'model.h5'))"
   ]
  }
 ],
 "metadata": {
  "kaggle": {
   "accelerator": "none",
   "dataSources": [
    {
     "datasetId": 6526355,
     "sourceId": 10749311,
     "sourceType": "datasetVersion"
    }
   ],
   "dockerImageVersionId": 30839,
   "isGpuEnabled": false,
   "isInternetEnabled": false,
   "language": "python",
   "sourceType": "notebook"
  },
  "kernelspec": {
   "display_name": "Python 3 (ipykernel)",
   "language": "python",
   "name": "python3"
  },
  "language_info": {
   "codemirror_mode": {
    "name": "ipython",
    "version": 3
   },
   "file_extension": ".py",
   "mimetype": "text/x-python",
   "name": "python",
   "nbconvert_exporter": "python",
   "pygments_lexer": "ipython3",
   "version": "3.12.7"
  },
  "papermill": {
   "default_parameters": {},
   "duration": 2747.462556,
   "end_time": "2025-02-14T14:24:43.868111",
   "environment_variables": {},
   "exception": null,
   "input_path": "__notebook__.ipynb",
   "output_path": "__notebook__.ipynb",
   "parameters": {},
   "start_time": "2025-02-14T13:38:56.405555",
   "version": "2.6.0"
  }
 },
 "nbformat": 4,
 "nbformat_minor": 5
}
