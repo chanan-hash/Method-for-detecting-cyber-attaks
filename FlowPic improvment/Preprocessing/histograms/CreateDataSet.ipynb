{
 "cells": [
  {
   "cell_type": "code",
   "execution_count": 5,
   "id": "2fb97826-bc7e-4331-922b-66aeb7ea2d58",
   "metadata": {},
   "outputs": [],
   "source": [
    "import os\n",
    "import numpy as np\n",
    "import pandas as pd\n",
    "from functions_flowpic import process_packet_data, process_packet_data_batch\n",
    "from sklearn.model_selection import train_test_split"
   ]
  },
  {
   "cell_type": "code",
   "execution_count": 6,
   "id": "ecaa99dc-d328-4c3d-8940-ef790c186193",
   "metadata": {},
   "outputs": [],
   "source": [
    "file_path_save = r\"E:\\shachar_df\""
   ]
  },
  {
   "cell_type": "code",
   "execution_count": 7,
   "id": "5ae2118f-e3eb-40cc-bb2f-dc768847fa82",
   "metadata": {},
   "outputs": [],
   "source": [
    "# Example usage\n",
    "chat_df = pd.read_csv(r\"C:\\Users\\חנן\\Desktop\\אריאל אונ'\\שנה ג\\זיהוי התקפות\\FlowPic\\ISCX2016\\reg\\combined_chat_dataset.csv\")\n",
    "video_df = pd.read_csv(r\"C:\\Users\\חנן\\Desktop\\אריאל אונ'\\שנה ג\\זיהוי התקפות\\FlowPic\\ISCX2016\\reg\\combined_video_dataset.csv\")\n",
    "voip_df = pd.read_csv(r\"C:\\Users\\חנן\\Desktop\\אריאל אונ'\\שנה ג\\זיהוי התקפות\\FlowPic\\ISCX2016\\reg\\combined_voip_dataset.csv\")\n",
    "file_df = pd.read_csv(r\"C:\\Users\\חנן\\Desktop\\אריאל אונ'\\שנה ג\\זיהוי התקפות\\FlowPic\\ISCX2016\\reg\\combined_file_dataset.csv\")"
   ]
  },
  {
   "cell_type": "code",
   "execution_count": 8,
   "id": "5ea1f2ed-adc3-4e2f-9321-f9ec2205c8c1",
   "metadata": {},
   "outputs": [
    {
     "name": "stdout",
     "output_type": "stream",
     "text": [
      "\n",
      "Starting packet data processing:\n",
      "\n",
      "Creating histograms in batches:\n",
      "\n",
      "Processing batch 1, windows 1 to 32\n",
      "\n",
      "Processing batch 2, windows 33 to 64\n",
      "\n",
      "Processing batch 3, windows 65 to 96\n",
      "\n",
      "Processing batch 4, windows 97 to 128\n",
      "\n",
      "Processing batch 5, windows 129 to 160\n",
      "\n",
      "Processing batch 6, windows 161 to 192\n",
      "\n",
      "Processing batch 7, windows 193 to 221\n",
      "\n",
      "Completed processing: Created 221 histograms\n"
     ]
    }
   ],
   "source": [
    "# chat_histograms = process_packet_data(chat_df, window_size=10)\n",
    "chat_histograms = process_packet_data_batch(chat_df, window_size=10)"
   ]
  },
  {
   "cell_type": "code",
   "execution_count": 9,
   "id": "b32b2d58-2790-42fb-a60a-f13b84bedd66",
   "metadata": {},
   "outputs": [
    {
     "name": "stdout",
     "output_type": "stream",
     "text": [
      "\n",
      "Starting packet data processing:\n",
      "\n",
      "Creating histograms in batches:\n",
      "\n",
      "Processing batch 1, windows 1 to 32\n",
      "\n",
      "Processing batch 2, windows 33 to 64\n",
      "\n",
      "Processing batch 3, windows 65 to 96\n",
      "\n",
      "Processing batch 4, windows 97 to 128\n",
      "\n",
      "Processing batch 5, windows 129 to 160\n",
      "\n",
      "Processing batch 6, windows 161 to 192\n",
      "\n",
      "Processing batch 7, windows 193 to 224\n",
      "\n",
      "Processing batch 8, windows 225 to 256\n",
      "\n",
      "Processing batch 9, windows 257 to 288\n",
      "\n",
      "Processing batch 10, windows 289 to 320\n",
      "\n",
      "Processing batch 11, windows 321 to 352\n",
      "\n",
      "Processing batch 12, windows 353 to 384\n",
      "\n",
      "Processing batch 13, windows 385 to 416\n",
      "\n",
      "Processing batch 14, windows 417 to 448\n",
      "\n",
      "Processing batch 15, windows 449 to 480\n",
      "\n",
      "Processing batch 16, windows 481 to 512\n",
      "\n",
      "Processing batch 17, windows 513 to 544\n",
      "\n",
      "Processing batch 18, windows 545 to 576\n",
      "\n",
      "Processing batch 19, windows 577 to 608\n",
      "\n",
      "Processing batch 20, windows 609 to 640\n",
      "\n",
      "Processing batch 21, windows 641 to 672\n",
      "\n",
      "Processing batch 22, windows 673 to 704\n",
      "\n",
      "Processing batch 23, windows 705 to 736\n",
      "\n",
      "Processing batch 24, windows 737 to 768\n",
      "\n",
      "Processing batch 25, windows 769 to 771\n",
      "\n",
      "Completed processing: Created 771 histograms\n"
     ]
    }
   ],
   "source": [
    "# video_histograms = process_packet_data(video_df, window_size=10)\n",
    "video_histograms = process_packet_data_batch(video_df, window_size=10)"
   ]
  },
  {
   "cell_type": "code",
   "execution_count": 10,
   "id": "29a9b527-e6b1-4f49-934d-53c5b3e99f02",
   "metadata": {},
   "outputs": [
    {
     "name": "stdout",
     "output_type": "stream",
     "text": [
      "\n",
      "Starting packet data processing:\n",
      "\n",
      "Creating histograms in batches:\n",
      "\n",
      "Processing batch 1, windows 1 to 32\n",
      "\n",
      "Processing batch 2, windows 33 to 64\n",
      "\n",
      "Processing batch 3, windows 65 to 96\n",
      "\n",
      "Processing batch 4, windows 97 to 128\n",
      "\n",
      "Processing batch 5, windows 129 to 160\n",
      "\n",
      "Processing batch 6, windows 161 to 192\n",
      "\n",
      "Processing batch 7, windows 193 to 224\n",
      "\n",
      "Processing batch 8, windows 225 to 256\n",
      "\n",
      "Processing batch 9, windows 257 to 288\n",
      "\n",
      "Processing batch 10, windows 289 to 320\n",
      "\n",
      "Processing batch 11, windows 321 to 352\n",
      "\n",
      "Processing batch 12, windows 353 to 384\n",
      "\n",
      "Processing batch 13, windows 385 to 416\n",
      "\n",
      "Processing batch 14, windows 417 to 448\n",
      "\n",
      "Processing batch 15, windows 449 to 480\n",
      "\n",
      "Processing batch 16, windows 481 to 512\n",
      "\n",
      "Processing batch 17, windows 513 to 544\n",
      "\n",
      "Processing batch 18, windows 545 to 576\n",
      "\n",
      "Processing batch 19, windows 577 to 608\n",
      "\n",
      "Processing batch 20, windows 609 to 640\n",
      "\n",
      "Processing batch 21, windows 641 to 672\n",
      "\n",
      "Processing batch 22, windows 673 to 704\n",
      "\n",
      "Processing batch 23, windows 705 to 736\n",
      "\n",
      "Processing batch 24, windows 737 to 768\n",
      "\n",
      "Processing batch 25, windows 769 to 800\n",
      "\n",
      "Processing batch 26, windows 801 to 832\n",
      "\n",
      "Processing batch 27, windows 833 to 864\n",
      "\n",
      "Processing batch 28, windows 865 to 896\n",
      "\n",
      "Processing batch 29, windows 897 to 928\n",
      "\n",
      "Processing batch 30, windows 929 to 960\n",
      "\n",
      "Processing batch 31, windows 961 to 992\n",
      "\n",
      "Processing batch 32, windows 993 to 1024\n",
      "\n",
      "Processing batch 33, windows 1025 to 1056\n",
      "\n",
      "Processing batch 34, windows 1057 to 1088\n",
      "\n",
      "Processing batch 35, windows 1089 to 1120\n",
      "\n",
      "Processing batch 36, windows 1121 to 1152\n",
      "\n",
      "Processing batch 37, windows 1153 to 1184\n",
      "\n",
      "Processing batch 38, windows 1185 to 1216\n",
      "\n",
      "Processing batch 39, windows 1217 to 1248\n",
      "\n",
      "Processing batch 40, windows 1249 to 1280\n",
      "\n",
      "Processing batch 41, windows 1281 to 1312\n",
      "\n",
      "Processing batch 42, windows 1313 to 1344\n",
      "\n",
      "Processing batch 43, windows 1345 to 1376\n",
      "\n",
      "Processing batch 44, windows 1377 to 1408\n",
      "\n",
      "Processing batch 45, windows 1409 to 1440\n",
      "\n",
      "Processing batch 46, windows 1441 to 1472\n",
      "\n",
      "Processing batch 47, windows 1473 to 1504\n",
      "\n",
      "Processing batch 48, windows 1505 to 1536\n",
      "\n",
      "Processing batch 49, windows 1537 to 1568\n",
      "\n",
      "Processing batch 50, windows 1569 to 1600\n",
      "\n",
      "Processing batch 51, windows 1601 to 1632\n",
      "\n",
      "Processing batch 52, windows 1633 to 1664\n",
      "\n",
      "Processing batch 53, windows 1665 to 1696\n",
      "\n",
      "Processing batch 54, windows 1697 to 1728\n",
      "\n",
      "Processing batch 55, windows 1729 to 1760\n",
      "\n",
      "Processing batch 56, windows 1761 to 1792\n",
      "\n",
      "Processing batch 57, windows 1793 to 1824\n",
      "\n",
      "Processing batch 58, windows 1825 to 1856\n",
      "\n",
      "Processing batch 59, windows 1857 to 1888\n",
      "\n",
      "Processing batch 60, windows 1889 to 1920\n",
      "\n",
      "Processing batch 61, windows 1921 to 1952\n",
      "\n",
      "Processing batch 62, windows 1953 to 1984\n",
      "\n",
      "Processing batch 63, windows 1985 to 2016\n",
      "\n",
      "Processing batch 64, windows 2017 to 2048\n",
      "\n",
      "Processing batch 65, windows 2049 to 2080\n",
      "\n",
      "Processing batch 66, windows 2081 to 2112\n",
      "\n",
      "Processing batch 67, windows 2113 to 2144\n",
      "\n",
      "Processing batch 68, windows 2145 to 2176\n",
      "\n",
      "Processing batch 69, windows 2177 to 2208\n",
      "\n",
      "Processing batch 70, windows 2209 to 2240\n",
      "\n",
      "Processing batch 71, windows 2241 to 2247\n",
      "\n",
      "Completed processing: Created 2247 histograms\n"
     ]
    }
   ],
   "source": [
    "# voip_histograms = process_packet_data(voip_df, window_size=10)\n",
    "voip_histograms = process_packet_data_batch(voip_df, window_size=10)"
   ]
  },
  {
   "cell_type": "code",
   "execution_count": 11,
   "id": "ddecd891-d761-4c60-8abb-ddba4e49744b",
   "metadata": {},
   "outputs": [
    {
     "name": "stdout",
     "output_type": "stream",
     "text": [
      "\n",
      "Starting packet data processing:\n"
     ]
    },
    {
     "ename": "KeyboardInterrupt",
     "evalue": "",
     "output_type": "error",
     "traceback": [
      "\u001b[1;31m---------------------------------------------------------------------------\u001b[0m",
      "\u001b[1;31mKeyboardInterrupt\u001b[0m                         Traceback (most recent call last)",
      "Cell \u001b[1;32mIn[11], line 2\u001b[0m\n\u001b[0;32m      1\u001b[0m \u001b[38;5;66;03m# file_histograms = process_packet_data(file_df, window_size=10)\u001b[39;00m\n\u001b[1;32m----> 2\u001b[0m file_histograms \u001b[38;5;241m=\u001b[39m process_packet_data_batch(file_df, window_size\u001b[38;5;241m=\u001b[39m\u001b[38;5;241m10\u001b[39m)\n",
      "File \u001b[1;32m~\\Desktop\\אריאל אונ'\\שנה ג\\זיהוי התקפות\\FlowPic\\shachar code\\histograms\\functions_flowpic.py:145\u001b[0m, in \u001b[0;36mprocess_packet_data_batch\u001b[1;34m(input_df, window_size, hist_size, batch_size)\u001b[0m\n\u001b[0;32m    143\u001b[0m \u001b[38;5;250m\u001b[39m\u001b[38;5;124;03m\"\"\"Main function to process packet data with batch processing\"\"\"\u001b[39;00m\n\u001b[0;32m    144\u001b[0m \u001b[38;5;28mprint\u001b[39m(\u001b[38;5;124m\"\u001b[39m\u001b[38;5;130;01m\\n\u001b[39;00m\u001b[38;5;124mStarting packet data processing:\u001b[39m\u001b[38;5;124m\"\u001b[39m)\n\u001b[1;32m--> 145\u001b[0m windows \u001b[38;5;241m=\u001b[39m create_time_windows(input_df, window_size)\u001b[38;5;66;03m#, overlap)\u001b[39;00m\n\u001b[0;32m    146\u001b[0m histograms \u001b[38;5;241m=\u001b[39m []\n\u001b[0;32m    148\u001b[0m \u001b[38;5;28mprint\u001b[39m(\u001b[38;5;124m\"\u001b[39m\u001b[38;5;130;01m\\n\u001b[39;00m\u001b[38;5;124mCreating histograms in batches:\u001b[39m\u001b[38;5;124m\"\u001b[39m)\n",
      "File \u001b[1;32m~\\Desktop\\אריאל אונ'\\שנה ג\\זיהוי התקפות\\FlowPic\\shachar code\\histograms\\functions_flowpic.py:96\u001b[0m, in \u001b[0;36mcreate_time_windows\u001b[1;34m(df, window_size)\u001b[0m\n\u001b[0;32m     94\u001b[0m \u001b[38;5;28;01mwhile\u001b[39;00m current_time \u001b[38;5;241m<\u001b[39m end_time:\n\u001b[0;32m     95\u001b[0m     window_end \u001b[38;5;241m=\u001b[39m current_time \u001b[38;5;241m+\u001b[39m window_size\n\u001b[1;32m---> 96\u001b[0m     window_df \u001b[38;5;241m=\u001b[39m df[(df[\u001b[38;5;124m'\u001b[39m\u001b[38;5;124mTimestamp\u001b[39m\u001b[38;5;124m'\u001b[39m] \u001b[38;5;241m>\u001b[39m\u001b[38;5;241m=\u001b[39m current_time) \u001b[38;5;241m&\u001b[39m (df[\u001b[38;5;124m'\u001b[39m\u001b[38;5;124mTimestamp\u001b[39m\u001b[38;5;124m'\u001b[39m] \u001b[38;5;241m<\u001b[39m window_end)]\n\u001b[0;32m     97\u001b[0m     \u001b[38;5;28;01mif\u001b[39;00m \u001b[38;5;129;01mnot\u001b[39;00m window_df\u001b[38;5;241m.\u001b[39mempty:\n\u001b[0;32m     98\u001b[0m         windows\u001b[38;5;241m.\u001b[39mappend(window_df)\n",
      "File \u001b[1;32mC:\\anconda\\Lib\\site-packages\\pandas\\core\\ops\\common.py:76\u001b[0m, in \u001b[0;36m_unpack_zerodim_and_defer.<locals>.new_method\u001b[1;34m(self, other)\u001b[0m\n\u001b[0;32m     72\u001b[0m             \u001b[38;5;28;01mreturn\u001b[39;00m \u001b[38;5;28mNotImplemented\u001b[39m\n\u001b[0;32m     74\u001b[0m other \u001b[38;5;241m=\u001b[39m item_from_zerodim(other)\n\u001b[1;32m---> 76\u001b[0m \u001b[38;5;28;01mreturn\u001b[39;00m method(\u001b[38;5;28mself\u001b[39m, other)\n",
      "File \u001b[1;32mC:\\anconda\\Lib\\site-packages\\pandas\\core\\arraylike.py:70\u001b[0m, in \u001b[0;36mOpsMixin.__and__\u001b[1;34m(self, other)\u001b[0m\n\u001b[0;32m     68\u001b[0m \u001b[38;5;129m@unpack_zerodim_and_defer\u001b[39m(\u001b[38;5;124m\"\u001b[39m\u001b[38;5;124m__and__\u001b[39m\u001b[38;5;124m\"\u001b[39m)\n\u001b[0;32m     69\u001b[0m \u001b[38;5;28;01mdef\u001b[39;00m \u001b[38;5;21m__and__\u001b[39m(\u001b[38;5;28mself\u001b[39m, other):\n\u001b[1;32m---> 70\u001b[0m     \u001b[38;5;28;01mreturn\u001b[39;00m \u001b[38;5;28mself\u001b[39m\u001b[38;5;241m.\u001b[39m_logical_method(other, operator\u001b[38;5;241m.\u001b[39mand_)\n",
      "File \u001b[1;32mC:\\anconda\\Lib\\site-packages\\pandas\\core\\series.py:6130\u001b[0m, in \u001b[0;36mSeries._logical_method\u001b[1;34m(self, other, op)\u001b[0m\n\u001b[0;32m   6127\u001b[0m lvalues \u001b[38;5;241m=\u001b[39m \u001b[38;5;28mself\u001b[39m\u001b[38;5;241m.\u001b[39m_values\n\u001b[0;32m   6128\u001b[0m rvalues \u001b[38;5;241m=\u001b[39m extract_array(other, extract_numpy\u001b[38;5;241m=\u001b[39m\u001b[38;5;28;01mTrue\u001b[39;00m, extract_range\u001b[38;5;241m=\u001b[39m\u001b[38;5;28;01mTrue\u001b[39;00m)\n\u001b[1;32m-> 6130\u001b[0m res_values \u001b[38;5;241m=\u001b[39m ops\u001b[38;5;241m.\u001b[39mlogical_op(lvalues, rvalues, op)\n\u001b[0;32m   6131\u001b[0m \u001b[38;5;28;01mreturn\u001b[39;00m \u001b[38;5;28mself\u001b[39m\u001b[38;5;241m.\u001b[39m_construct_result(res_values, name\u001b[38;5;241m=\u001b[39mres_name)\n",
      "File \u001b[1;32mC:\\anconda\\Lib\\site-packages\\pandas\\core\\ops\\array_ops.py:459\u001b[0m, in \u001b[0;36mlogical_op\u001b[1;34m(left, right, op)\u001b[0m\n\u001b[0;32m    456\u001b[0m     \u001b[38;5;66;03m# For int vs int `^`, `|`, `&` are bitwise operators and return\u001b[39;00m\n\u001b[0;32m    457\u001b[0m     \u001b[38;5;66;03m#   integer dtypes.  Otherwise these are boolean ops\u001b[39;00m\n\u001b[0;32m    458\u001b[0m     \u001b[38;5;28;01mif\u001b[39;00m \u001b[38;5;129;01mnot\u001b[39;00m (left\u001b[38;5;241m.\u001b[39mdtype\u001b[38;5;241m.\u001b[39mkind \u001b[38;5;129;01min\u001b[39;00m \u001b[38;5;124m\"\u001b[39m\u001b[38;5;124miu\u001b[39m\u001b[38;5;124m\"\u001b[39m \u001b[38;5;129;01mand\u001b[39;00m is_other_int_dtype):\n\u001b[1;32m--> 459\u001b[0m         res_values \u001b[38;5;241m=\u001b[39m fill_bool(res_values)\n\u001b[0;32m    461\u001b[0m \u001b[38;5;28;01mreturn\u001b[39;00m res_values\n",
      "File \u001b[1;32mC:\\anconda\\Lib\\site-packages\\pandas\\core\\ops\\array_ops.py:420\u001b[0m, in \u001b[0;36mlogical_op.<locals>.fill_bool\u001b[1;34m(x, left)\u001b[0m\n\u001b[0;32m    417\u001b[0m         x[mask] \u001b[38;5;241m=\u001b[39m \u001b[38;5;28;01mFalse\u001b[39;00m\n\u001b[0;32m    419\u001b[0m \u001b[38;5;28;01mif\u001b[39;00m left \u001b[38;5;129;01mis\u001b[39;00m \u001b[38;5;28;01mNone\u001b[39;00m \u001b[38;5;129;01mor\u001b[39;00m left\u001b[38;5;241m.\u001b[39mdtype\u001b[38;5;241m.\u001b[39mkind \u001b[38;5;241m==\u001b[39m \u001b[38;5;124m\"\u001b[39m\u001b[38;5;124mb\u001b[39m\u001b[38;5;124m\"\u001b[39m:\n\u001b[1;32m--> 420\u001b[0m     x \u001b[38;5;241m=\u001b[39m x\u001b[38;5;241m.\u001b[39mastype(\u001b[38;5;28mbool\u001b[39m)\n\u001b[0;32m    421\u001b[0m \u001b[38;5;28;01mreturn\u001b[39;00m x\n",
      "\u001b[1;31mKeyboardInterrupt\u001b[0m: "
     ]
    }
   ],
   "source": [
    "# file_histograms = process_packet_data(file_df, window_size=10)\n",
    "file_histograms = process_packet_data_batch(file_df, window_size=10)"
   ]
  },
  {
   "cell_type": "code",
   "execution_count": null,
   "id": "baa6c082-e0bc-487f-adf9-4bf6d50b576e",
   "metadata": {},
   "outputs": [],
   "source": [
    "# Convert each class's histograms to numpy arrays\n",
    "chat_data = np.array(chat_histograms)\n",
    "video_data = np.array(video_histograms)\n",
    "voip_data = np.array(voip_histograms)\n",
    "file_data = np.array(file_histograms)"
   ]
  },
  {
   "cell_type": "code",
   "execution_count": null,
   "id": "f25b1008-ffaf-4777-a396-b33f54d170c1",
   "metadata": {},
   "outputs": [],
   "source": [
    "# Create labels for each class (0: chat, 1: video, 2: voip, 3: file)\n",
    "chat_labels = np.zeros(len(chat_histograms))\n",
    "video_labels = np.ones(len(video_histograms))\n",
    "voip_labels = np.full(len(voip_histograms), 2)\n",
    "file_labels = np.full(len(file_histograms), 3)"
   ]
  },
  {
   "cell_type": "code",
   "execution_count": null,
   "id": "00705884-fa95-419d-bb71-5d963b21cc40",
   "metadata": {},
   "outputs": [],
   "source": [
    "chat_data.shape, video_data.shape, voip_data.shape, file_data.shape"
   ]
  },
  {
   "cell_type": "code",
   "execution_count": null,
   "id": "679dfa8f-0b48-4228-85a3-2c8dfafe2cf2",
   "metadata": {},
   "outputs": [],
   "source": [
    "# Combine all data and labels\n",
    "X = np.concatenate([chat_data, video_data, voip_data, file_data], axis=0)\n",
    "y = np.concatenate([chat_labels, video_labels, voip_labels, file_labels])"
   ]
  },
  {
   "cell_type": "code",
   "execution_count": null,
   "id": "bbd5995b-d85f-4554-954e-dd957df8c5b5",
   "metadata": {},
   "outputs": [],
   "source": [
    "if not os.path.exists(file_path_save):\n",
    "    os.makedirs(file_path_save)\n",
    "# Save combined data and labels\n",
    "np.save(file_path_save + 'reg_X_10.npy', X)\n",
    "np.save(file_path_save +'reg_y_10.npy', y)"
   ]
  },
  {
   "cell_type": "code",
   "execution_count": null,
   "id": "0f42b360-daca-47a2-bc51-62cb203b47bd",
   "metadata": {},
   "outputs": [],
   "source": [
    "# Print shapes for verification\n",
    "print(f\"Final X shape: {X.shape}\")\n",
    "print(f\"Final y shape: {y.shape}\")\n",
    "print(f\"Number of samples per class: Chat={len(chat_data)}, Video={len(video_data)}, VoIP={len(voip_data)}\")"
   ]
  },
  {
   "cell_type": "code",
   "execution_count": null,
   "id": "2ec02e82-e22a-4517-8628-054e055c6dad",
   "metadata": {},
   "outputs": [],
   "source": [
    "assert X.shape[0] == y.shape[0]"
   ]
  },
  {
   "cell_type": "code",
   "execution_count": null,
   "id": "69ca1067-aac3-4983-b0dc-1671b9494781",
   "metadata": {},
   "outputs": [],
   "source": [
    "del chat_df, video_df, voip_df, file_df, chat_histograms, video_histograms, voip_histograms, file_histograms"
   ]
  },
  {
   "cell_type": "code",
   "execution_count": null,
   "id": "f9f6c047-fc8e-487d-86f0-f9895eb5a856",
   "metadata": {},
   "outputs": [],
   "source": [
    "del chat_data, video_data, voip_data, file_data"
   ]
  },
  {
   "cell_type": "code",
   "execution_count": null,
   "id": "7d578a7f-c211-410a-b74b-5f4ddfa71d60",
   "metadata": {},
   "outputs": [],
   "source": [
    "# Load the data\n",
    "X = np.load('histograms/reg_X_10.npy')\n",
    "y = np.load('histograms/reg_y_10.npy')"
   ]
  },
  {
   "cell_type": "code",
   "execution_count": null,
   "id": "7a82d3bf-7204-4f88-972f-2481fefecfb7",
   "metadata": {},
   "outputs": [],
   "source": [
    "\n",
    "# Shuffle and split the data\n",
    "# First split: 80% train+val, 20% test\n",
    "X_trainval, X_test, y_trainval, y_test = train_test_split(X, y, test_size=0.2, random_state=42)\n",
    "\n",
    "# Second split: 75% train, 25% validation (from the remaining 80%)\n",
    "X_train, X_val, y_train, y_val = train_test_split(X_trainval, y_trainval, test_size=0.25, random_state=42)\n",
    "\n",
    "# Print shapes to verify\n",
    "print(f'Training set shape: {X_train.shape} {y_train.shape}')"
   ]
  },
  {
   "cell_type": "code",
   "execution_count": null,
   "id": "34ea0063-7931-4963-afb8-23058ccc5ceb",
   "metadata": {},
   "outputs": [],
   "source": [
    "# Load the data\n",
    "X_train = np.load('histograms/reg_X_train_10.npy')\n",
    "X_val = np.load('histograms/reg_X_val_10.npy')\n",
    "X_test = np.load('histograms/reg_X_test_10.npy')\n",
    "y_train = np.load('histograms/reg_y_train_10.npy')\n",
    "y_val = np.load('histograms/reg_y_val_10.npy')\n",
    "y_test = np.load('histograms/reg_y_test_10.npy')"
   ]
  },
  {
   "cell_type": "code",
   "execution_count": null,
   "id": "207c81e0-03b3-4add-a2d2-51291637a420",
   "metadata": {},
   "outputs": [],
   "source": [
    "X_train.shape, X_val.shape, y_train.shape, y_val.shape, X_test.shape, y_test.shape "
   ]
  }
 ],
 "metadata": {
  "kernelspec": {
   "display_name": "Python 3 (ipykernel)",
   "language": "python",
   "name": "python3"
  },
  "language_info": {
   "codemirror_mode": {
    "name": "ipython",
    "version": 3
   },
   "file_extension": ".py",
   "mimetype": "text/x-python",
   "name": "python",
   "nbconvert_exporter": "python",
   "pygments_lexer": "ipython3",
   "version": "3.12.7"
  }
 },
 "nbformat": 4,
 "nbformat_minor": 5
}
