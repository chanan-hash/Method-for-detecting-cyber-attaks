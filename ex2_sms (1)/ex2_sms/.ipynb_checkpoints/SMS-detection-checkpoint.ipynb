{
 "cells": [
  {
   "cell_type": "markdown",
   "id": "8a1a1e0b",
   "metadata": {},
   "source": [
    "# SMS Detection"
   ]
  },
  {
   "cell_type": "code",
   "execution_count": null,
   "id": "520cfad9",
   "metadata": {},
   "outputs": [],
   "source": [
    "ID:\n",
    "Email:\n",
    "Name: "
   ]
  },
  {
   "cell_type": "code",
   "execution_count": null,
   "id": "137c3354",
   "metadata": {},
   "outputs": [],
   "source": [
    "1. Load the dataset"
   ]
  },
  {
   "cell_type": "code",
   "execution_count": null,
   "id": "f5d60d30",
   "metadata": {},
   "outputs": [],
   "source": []
  },
  {
   "cell_type": "markdown",
   "id": "c45762a8",
   "metadata": {},
   "source": [
    "1. Data exploration -what did you learn? [20 points]"
   ]
  },
  {
   "cell_type": "code",
   "execution_count": 1,
   "id": "d56ba2bd",
   "metadata": {},
   "outputs": [],
   "source": [
    "import pandas as pd\n",
    "df= pd.read_csv(\"spam.csv\", encoding='latin1')"
   ]
  },
  {
   "cell_type": "code",
   "execution_count": 11,
   "id": "fdb19001",
   "metadata": {},
   "outputs": [],
   "source": [
    "df = df.rename(columns={\"v1\": \"labels\", \"v2\": \"text\"})[[\"labels\",\"text\"]]"
   ]
  },
  {
   "cell_type": "code",
   "execution_count": 14,
   "id": "a8611c5b",
   "metadata": {},
   "outputs": [
    {
     "data": {
      "text/plain": [
       "array(['ham', 'spam'], dtype=object)"
      ]
     },
     "execution_count": 14,
     "metadata": {},
     "output_type": "execute_result"
    }
   ],
   "source": [
    "import numpy as np \n",
    "np.unique(df.labels) "
   ]
  },
  {
   "cell_type": "markdown",
   "id": "e7e7e4eb",
   "metadata": {},
   "source": [
    "2. Calculate TFIDF features [10 points]\n",
    "https://scikit-learn.org/stable/modules/generated/sklearn.feature_extraction.text.TfidfVectorizer.html"
   ]
  },
  {
   "cell_type": "code",
   "execution_count": null,
   "id": "39dca5c8",
   "metadata": {},
   "outputs": [],
   "source": []
  },
  {
   "cell_type": "code",
   "execution_count": null,
   "id": "309b289a",
   "metadata": {},
   "outputs": [],
   "source": [
    "3. what is the problem with TFIDF with large datasets? [no points]"
   ]
  },
  {
   "cell_type": "code",
   "execution_count": null,
   "id": "5316f47f",
   "metadata": {},
   "outputs": [],
   "source": []
  },
  {
   "cell_type": "markdown",
   "id": "474dabe8",
   "metadata": {},
   "source": [
    "3.1. Create dataset using feature selection method for your choice [10 points]"
   ]
  },
  {
   "cell_type": "code",
   "execution_count": null,
   "id": "2a18a237",
   "metadata": {},
   "outputs": [],
   "source": []
  },
  {
   "cell_type": "markdown",
   "id": "d7a70a7d",
   "metadata": {},
   "source": [
    "3.2. Create alternative dataset using using PCA [10 points]\n"
   ]
  },
  {
   "cell_type": "code",
   "execution_count": null,
   "id": "73a83579",
   "metadata": {},
   "outputs": [],
   "source": []
  },
  {
   "cell_type": "markdown",
   "id": "3aada56f",
   "metadata": {},
   "source": [
    "3.3 what is the difference between PCA and feature selection [10 points]"
   ]
  },
  {
   "cell_type": "code",
   "execution_count": null,
   "id": "096838c7",
   "metadata": {},
   "outputs": [],
   "source": []
  },
  {
   "cell_type": "markdown",
   "id": "0a29b120",
   "metadata": {},
   "source": [
    "4. Based on supervised learning compare between 3.1 and 3.2  [10 points]"
   ]
  },
  {
   "cell_type": "code",
   "execution_count": null,
   "id": "faeec324",
   "metadata": {},
   "outputs": [],
   "source": []
  },
  {
   "cell_type": "markdown",
   "id": "dc6c2984",
   "metadata": {},
   "source": [
    "5. Can you improve the results shown in  (4) [30 points]"
   ]
  },
  {
   "cell_type": "code",
   "execution_count": null,
   "id": "10a55b1e",
   "metadata": {},
   "outputs": [],
   "source": []
  }
 ],
 "metadata": {
  "kernelspec": {
   "display_name": "Python 3 (ipykernel)",
   "language": "python",
   "name": "python3"
  },
  "language_info": {
   "codemirror_mode": {
    "name": "ipython",
    "version": 3
   },
   "file_extension": ".py",
   "mimetype": "text/x-python",
   "name": "python",
   "nbconvert_exporter": "python",
   "pygments_lexer": "ipython3",
   "version": "3.10.10"
  }
 },
 "nbformat": 4,
 "nbformat_minor": 5
}
